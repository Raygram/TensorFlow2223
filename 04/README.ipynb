{
 "cells": [
  {
   "cell_type": "markdown",
   "metadata": {},
   "source": [
    "We created a jupyter notebook for each subtask with the experiments running on subtask 2. We have plotted the results in the tensorboard. Have fun :)"
   ]
  }
 ],
 "metadata": {
  "language_info": {
   "name": "python"
  },
  "orig_nbformat": 4
 },
 "nbformat": 4,
 "nbformat_minor": 2
}
