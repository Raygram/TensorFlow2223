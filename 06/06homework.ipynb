{
 "cells": [
  {
   "cell_type": "code",
   "execution_count": 2,
   "metadata": {},
   "outputs": [],
   "source": [
    "import tensorflow as tf\n",
    "import tensorflow_datasets as tfds\n",
    "import datetime\n",
    "import tqdm\n",
    "\n",
    "%load_ext tensorboard"
   ]
  },
  {
   "cell_type": "code",
   "execution_count": 2,
   "metadata": {},
   "outputs": [],
   "source": [
    "def augment(image, label):\n",
    "    image = tf.image.random_flip_left_right(image)\n",
    "    image = tf.image.random_saturation(image, 0.7, 1.3)\n",
    "    image = tf.image.random_contrast(image, 0.8, 1.2)\n",
    "    image = tf.image.random_brightness(image, 0.1)\n",
    "    return image, label \n",
    "\n",
    "def get_cifar10(batch_size):\n",
    "    \"\"\"\n",
    "    Load and prepare CIFAR-10 as a tensorflow dataset.\n",
    "    Returns a train and a validation dataset.\n",
    "    Args:\n",
    "    batch_size (int)\n",
    "    \"\"\"\n",
    "    train_ds, val_ds = tfds.load('cifar10', split=['train', 'test'], shuffle_files=True)\n",
    "\n",
    "    one_hot = lambda x: tf.one_hot(x, 10)\n",
    "\n",
    "    map_func = lambda x,y: (tf.cast(x, dtype=tf.float32)/255.,\n",
    "                            tf.cast(one_hot(y),tf.float32))\n",
    "\n",
    "    map_func_2 = lambda x: (x[\"image\"],x[\"label\"])\n",
    "\n",
    "    train_ds = train_ds.map(map_func_2).map(map_func).cache()\n",
    "    val_ds   = val_ds.map(map_func_2).map(map_func).cache()\n",
    "    \n",
    "    train_ds = train_ds.shuffle(4096).batch(batch_size)\n",
    "    val_ds   = val_ds.shuffle(4096).batch(batch_size)\n",
    "\n",
    "    return (train_ds.prefetch(tf.data.AUTOTUNE), val_ds.prefetch(tf.data.AUTOTUNE))\n",
    "\n",
    "train_ds, val_ds = get_cifar10(128)"
   ]
  },
  {
   "cell_type": "code",
   "execution_count": 3,
   "metadata": {},
   "outputs": [],
   "source": [
    "class BasicCNNBlock(tf.keras.layers.Layer):\n",
    "    def __init__(self, depth, layers):\n",
    "        super(BasicCNNBlock, self).__init__()\n",
    "        self.layers = [tf.keras.layers.Conv2D(filters=depth, kernel_size=3, padding='same', activation='relu') for _ in range(layers)]\n",
    "\n",
    "    @tf.function\n",
    "    def call(self, x):\n",
    "        for layer in self.layers:\n",
    "            x = layer(x)\n",
    "        return x\n",
    "\n",
    "class BasicCNN(tf.keras.Model):\n",
    "    def __init__(self):\n",
    "        super().__init__()\n",
    "\n",
    "        self.metrics_list = [tf.keras.metrics.Mean(name=\"loss\"),\n",
    "                            tf.keras.metrics.CategoricalAccuracy(name=\"acc\")]\n",
    "        \n",
    "        self.optimizer = tf.keras.optimizers.Adam()\n",
    "        \n",
    "        self.loss_function = tf.keras.losses.CategoricalCrossentropy()\n",
    "\n",
    "        self.layer_list = [\n",
    "\n",
    "                           tf.keras.layers.BatchNormalization(),\n",
    "                           tf.keras.layers.Conv2D(filters=24, kernel_size=3, padding='same', activation='relu',kernel_regularizer=tf.keras.regularizers.L2(0.01)),\n",
    "                           tf.keras.layers.Dropout(0.1),\n",
    "                           tf.keras.layers.Conv2D(filters=24, kernel_size=3, padding='same', activation='relu',kernel_regularizer=tf.keras.regularizers.L2(0.01)),\n",
    "                           tf.keras.layers.Dropout(0.1),\n",
    "                           tf.keras.layers.Conv2D(filters=24, kernel_size=3, padding='same', activation='relu',kernel_regularizer=tf.keras.regularizers.L2(0.01)),\n",
    "                           tf.keras.layers.Dropout(0.1),\n",
    "                           tf.keras.layers.Conv2D(filters=24, kernel_size=3, padding='same', activation='relu',kernel_regularizer=tf.keras.regularizers.L2(0.01)),\n",
    "                           tf.keras.layers.Dropout(0.1),\n",
    "                           tf.keras.layers.Conv2D(filters=24, kernel_size=3, padding='same', activation='relu',kernel_regularizer=tf.keras.regularizers.L2(0.01)),\n",
    "                           tf.keras.layers.Dropout(0.1),\n",
    "                           tf.keras.layers.Conv2D(filters=24, kernel_size=3, padding='same', activation='relu',kernel_regularizer=tf.keras.regularizers.L2(0.01)),\n",
    "                           tf.keras.layers.Dropout(0.1),\n",
    "                           tf.keras.layers.MaxPooling2D(pool_size=2, strides=2),\n",
    "                           \n",
    "                           tf.keras.layers.BatchNormalization(),\n",
    "                           tf.keras.layers.Conv2D(filters=48, kernel_size=3, padding='same', activation='relu',kernel_regularizer=tf.keras.regularizers.L2(0.01)),\n",
    "                           tf.keras.layers.Dropout(0.1),\n",
    "                           tf.keras.layers.Conv2D(filters=48, kernel_size=3, padding='same', activation='relu',kernel_regularizer=tf.keras.regularizers.L2(0.01)),\n",
    "                           tf.keras.layers.Dropout(0.1),\n",
    "                           tf.keras.layers.Conv2D(filters=48, kernel_size=3, padding='same', activation='relu',kernel_regularizer=tf.keras.regularizers.L2(0.01)),\n",
    "                           tf.keras.layers.Dropout(0.1),\n",
    "                           tf.keras.layers.Conv2D(filters=48, kernel_size=3, padding='same', activation='relu',kernel_regularizer=tf.keras.regularizers.L2(0.01)),\n",
    "                           tf.keras.layers.Dropout(0.1),\n",
    "                           tf.keras.layers.MaxPooling2D(pool_size=2, strides=2),\n",
    "\n",
    "                           tf.keras.layers.BatchNormalization(),\n",
    "                           tf.keras.layers.Conv2D(filters=96, kernel_size=3, padding='same', activation='relu',kernel_regularizer=tf.keras.regularizers.L2(0.01)),\n",
    "                           tf.keras.layers.Dropout(0.1),\n",
    "                           tf.keras.layers.Conv2D(filters=96, kernel_size=3, padding='same', activation='relu',kernel_regularizer=tf.keras.regularizers.L2(0.01)),\n",
    "                           tf.keras.layers.Dropout(0.1),\n",
    "                           tf.keras.layers.GlobalMaxPooling2D(),\n",
    "                           \n",
    "                           tf.keras.layers.Dense(10, activation='softmax')]\n",
    "                           \n",
    "\n",
    "    @tf.function\n",
    "    def call(self, x):\n",
    "        for item in self.layer_list:\n",
    "            x = item(x)\n",
    "        return x\n",
    "     \n",
    "    @property\n",
    "    def metrics(self):\n",
    "        return self.metrics_list\n",
    "        # return a list with all metrics in the model\n",
    "\n",
    "    # 4. reset all metrics objects\n",
    "    def reset_metrics(self):\n",
    "        for metric in self.metrics:\n",
    "            metric.reset_states()\n",
    "\n",
    "    # 5. train step method\n",
    "    @tf.function\n",
    "    def train_step(self, data):\n",
    "        img, target = data\n",
    "        \n",
    "        with tf.GradientTape() as tape:\n",
    "            output = self(img, training=True)\n",
    "            loss = self.loss_function(target, output)\n",
    "            \n",
    "        gradients = tape.gradient(loss, self.trainable_variables)\n",
    "        self.optimizer.apply_gradients(zip(gradients, self.trainable_variables))\n",
    "\n",
    "        # update loss metric\n",
    "        self.metrics[0].update_state(loss)\n",
    "        \n",
    "        # for all metrics except loss, update states (accuracy etc.)\n",
    "        for metric in self.metrics[1:]:\n",
    "            metric.update_state(target, output)\n",
    "\n",
    "        # Return a dictionary mapping metric names to current value\n",
    "        return {m.name: m.result() for m in self.metrics}\n",
    "    \n",
    "    @tf.function\n",
    "    def test_step(self, data):\n",
    "        img, target = data\n",
    "\n",
    "        output = self(img, training=False)\n",
    "        loss = self.loss_function(target, output)\n",
    "\n",
    "        self.metrics[0].update_state(loss)\n",
    "        # for accuracy metrics:\n",
    "        for metric in self.metrics[1:]:\n",
    "            metric.update_state(target, output)\n",
    "\n",
    "        return {m.name: m.result() for m in self.metrics}"
   ]
  },
  {
   "cell_type": "code",
   "execution_count": 4,
   "metadata": {},
   "outputs": [],
   "source": [
    "# Define where to save the log\n",
    "config_name= \"batchnormblock+dropout0.1layer+L2\"\n",
    "current_time = datetime.datetime.now().strftime(\"%Y%m%d-%H%M%S\")\n",
    "\n",
    "train_log_path = f\"logs/{config_name}/{current_time}/train\"\n",
    "val_log_path = f\"logs/{config_name}/{current_time}/val\"\n",
    "\n",
    "# log writer for training metrics\n",
    "train_summary_writer = tf.summary.create_file_writer(train_log_path)\n",
    "\n",
    "# log writer for validation metrics\n",
    "val_summary_writer = tf.summary.create_file_writer(val_log_path)\n",
    "\n",
    "def training_loop(model, train_ds, val_ds, epochs, train_summary_writer, val_summary_writer):\n",
    "    for epoch in range(epochs):\n",
    "        print(f\"Epoch {epoch}:\")\n",
    "        \n",
    "        # Training:\n",
    "        \n",
    "        for data in tqdm.tqdm(train_ds, position=0, leave=True):\n",
    "            metrics = model.train_step(data)\n",
    "            \n",
    "            # logging the validation metrics to the log file which is used by tensorboard\n",
    "            with train_summary_writer.as_default():\n",
    "                for metric in model.metrics:\n",
    "                    tf.summary.scalar(f\"{metric.name}\", metric.result(), step=epoch)\n",
    "\n",
    "        # print the metrics\n",
    "        print([f\"{key}: {value.numpy()}\" for (key, value) in metrics.items()])\n",
    "\n",
    "        # reset all metrics (requires a reset_metrics method in the model)\n",
    "        model.reset_metrics()    \n",
    "        \n",
    "        # Validation:\n",
    "        for data in val_ds:\n",
    "            metrics = model.test_step(data)\n",
    "        \n",
    "            # logging the validation metrics to the log file which is used by tensorboard\n",
    "            with val_summary_writer.as_default():\n",
    "                for metric in model.metrics:\n",
    "                    tf.summary.scalar(f\"{metric.name}\", metric.result(), step=epoch)\n",
    "                    \n",
    "        print([f\"val_{key}: {value.numpy()}\" for (key, value) in metrics.items()])\n",
    "\n",
    "        # reset all metrics\n",
    "        model.reset_metrics()\n",
    "        print(\"\\n\")"
   ]
  },
  {
   "cell_type": "code",
   "execution_count": 4,
   "metadata": {},
   "outputs": [
    {
     "data": {
      "text/plain": [
       "Reusing TensorBoard on port 6006 (pid 14548), started 0:22:35 ago. (Use '!kill 14548' to kill it.)"
      ]
     },
     "metadata": {},
     "output_type": "display_data"
    },
    {
     "data": {
      "text/html": [
       "\n",
       "      <iframe id=\"tensorboard-frame-68047af496ee28ad\" width=\"100%\" height=\"800\" frameborder=\"0\">\n",
       "      </iframe>\n",
       "      <script>\n",
       "        (function() {\n",
       "          const frame = document.getElementById(\"tensorboard-frame-68047af496ee28ad\");\n",
       "          const url = new URL(\"http://localhost\");\n",
       "          const port = 6006;\n",
       "          if (port) {\n",
       "            url.port = port;\n",
       "          }\n",
       "          frame.src = url;\n",
       "        })();\n",
       "      </script>\n",
       "    "
      ],
      "text/plain": [
       "<IPython.core.display.HTML object>"
      ]
     },
     "metadata": {},
     "output_type": "display_data"
    }
   ],
   "source": [
    "%tensorboard --logdir logs/"
   ]
  },
  {
   "cell_type": "code",
   "execution_count": 6,
   "metadata": {},
   "outputs": [
    {
     "name": "stdout",
     "output_type": "stream",
     "text": [
      "Epoch 0:\n"
     ]
    },
    {
     "name": "stderr",
     "output_type": "stream",
     "text": [
      "100%|██████████| 391/391 [00:26<00:00, 14.89it/s]\n"
     ]
    },
    {
     "name": "stdout",
     "output_type": "stream",
     "text": [
      "['loss: 1.6795326471328735', 'acc: 0.3856000006198883']\n",
      "['val_loss: 1.4031211137771606', 'val_acc: 0.49050000309944153']\n",
      "\n",
      "\n",
      "Epoch 1:\n"
     ]
    },
    {
     "name": "stderr",
     "output_type": "stream",
     "text": [
      "100%|██████████| 391/391 [00:20<00:00, 18.97it/s]\n"
     ]
    },
    {
     "name": "stdout",
     "output_type": "stream",
     "text": [
      "['loss: 1.246921420097351', 'acc: 0.5511999726295471']\n",
      "['val_loss: 1.1244226694107056', 'val_acc: 0.5952000021934509']\n",
      "\n",
      "\n",
      "Epoch 2:\n"
     ]
    },
    {
     "name": "stderr",
     "output_type": "stream",
     "text": [
      "100%|██████████| 391/391 [00:19<00:00, 19.67it/s]\n"
     ]
    },
    {
     "name": "stdout",
     "output_type": "stream",
     "text": [
      "['loss: 1.0284382104873657', 'acc: 0.6359800100326538']\n",
      "['val_loss: 0.960030734539032', 'val_acc: 0.6543999910354614']\n",
      "\n",
      "\n",
      "Epoch 3:\n"
     ]
    },
    {
     "name": "stderr",
     "output_type": "stream",
     "text": [
      "100%|██████████| 391/391 [00:19<00:00, 19.63it/s]\n"
     ]
    },
    {
     "name": "stdout",
     "output_type": "stream",
     "text": [
      "['loss: 0.8918923139572144', 'acc: 0.6864200234413147']\n",
      "['val_loss: 0.8563884496688843', 'val_acc: 0.7013999819755554']\n",
      "\n",
      "\n",
      "Epoch 4:\n"
     ]
    },
    {
     "name": "stderr",
     "output_type": "stream",
     "text": [
      "100%|██████████| 391/391 [00:19<00:00, 19.65it/s]\n"
     ]
    },
    {
     "name": "stdout",
     "output_type": "stream",
     "text": [
      "['loss: 0.7914332747459412', 'acc: 0.7213199734687805']\n",
      "['val_loss: 0.8127869367599487', 'val_acc: 0.7145000100135803']\n",
      "\n",
      "\n",
      "Epoch 5:\n"
     ]
    },
    {
     "name": "stderr",
     "output_type": "stream",
     "text": [
      "100%|██████████| 391/391 [00:19<00:00, 19.68it/s]\n"
     ]
    },
    {
     "name": "stdout",
     "output_type": "stream",
     "text": [
      "['loss: 0.7286777496337891', 'acc: 0.7434800267219543']\n",
      "['val_loss: 0.7756235003471375', 'val_acc: 0.7297999858856201']\n",
      "\n",
      "\n",
      "Epoch 6:\n"
     ]
    },
    {
     "name": "stderr",
     "output_type": "stream",
     "text": [
      "100%|██████████| 391/391 [00:19<00:00, 19.63it/s]\n"
     ]
    },
    {
     "name": "stdout",
     "output_type": "stream",
     "text": [
      "['loss: 0.6822593808174133', 'acc: 0.7612199783325195']\n",
      "['val_loss: 0.7577524781227112', 'val_acc: 0.7382000088691711']\n",
      "\n",
      "\n",
      "Epoch 7:\n"
     ]
    },
    {
     "name": "stderr",
     "output_type": "stream",
     "text": [
      "100%|██████████| 391/391 [00:19<00:00, 19.73it/s]\n"
     ]
    },
    {
     "name": "stdout",
     "output_type": "stream",
     "text": [
      "['loss: 0.635924220085144', 'acc: 0.7760400176048279']\n",
      "['val_loss: 0.7155229449272156', 'val_acc: 0.7559999823570251']\n",
      "\n",
      "\n",
      "Epoch 8:\n"
     ]
    },
    {
     "name": "stderr",
     "output_type": "stream",
     "text": [
      "100%|██████████| 391/391 [00:19<00:00, 19.69it/s]\n"
     ]
    },
    {
     "name": "stdout",
     "output_type": "stream",
     "text": [
      "['loss: 0.5997694134712219', 'acc: 0.790120005607605']\n",
      "['val_loss: 0.6726654171943665', 'val_acc: 0.7684999704360962']\n",
      "\n",
      "\n",
      "Epoch 9:\n"
     ]
    },
    {
     "name": "stderr",
     "output_type": "stream",
     "text": [
      "100%|██████████| 391/391 [00:19<00:00, 19.66it/s]\n"
     ]
    },
    {
     "name": "stdout",
     "output_type": "stream",
     "text": [
      "['loss: 0.5676122307777405', 'acc: 0.8022599816322327']\n",
      "['val_loss: 0.678238570690155', 'val_acc: 0.7664999961853027']\n",
      "\n",
      "\n",
      "Epoch 10:\n"
     ]
    },
    {
     "name": "stderr",
     "output_type": "stream",
     "text": [
      "100%|██████████| 391/391 [00:19<00:00, 19.70it/s]\n"
     ]
    },
    {
     "name": "stdout",
     "output_type": "stream",
     "text": [
      "['loss: 0.5473240613937378', 'acc: 0.8083999752998352']\n",
      "['val_loss: 0.6579542756080627', 'val_acc: 0.7796000242233276']\n",
      "\n",
      "\n",
      "Epoch 11:\n"
     ]
    },
    {
     "name": "stderr",
     "output_type": "stream",
     "text": [
      "100%|██████████| 391/391 [00:21<00:00, 18.21it/s]\n"
     ]
    },
    {
     "name": "stdout",
     "output_type": "stream",
     "text": [
      "['loss: 0.5112508535385132', 'acc: 0.8192999958992004']\n",
      "['val_loss: 0.630044162273407', 'val_acc: 0.7836999893188477']\n",
      "\n",
      "\n",
      "Epoch 12:\n"
     ]
    },
    {
     "name": "stderr",
     "output_type": "stream",
     "text": [
      "100%|██████████| 391/391 [00:19<00:00, 19.65it/s]\n"
     ]
    },
    {
     "name": "stdout",
     "output_type": "stream",
     "text": [
      "['loss: 0.49375712871551514', 'acc: 0.8259599804878235']\n",
      "['val_loss: 0.6609145998954773', 'val_acc: 0.7792999744415283']\n",
      "\n",
      "\n",
      "Epoch 13:\n"
     ]
    },
    {
     "name": "stderr",
     "output_type": "stream",
     "text": [
      "100%|██████████| 391/391 [00:19<00:00, 19.72it/s]\n"
     ]
    },
    {
     "name": "stdout",
     "output_type": "stream",
     "text": [
      "['loss: 0.4720948040485382', 'acc: 0.8334800004959106']\n",
      "['val_loss: 0.6489681005477905', 'val_acc: 0.7829999923706055']\n",
      "\n",
      "\n",
      "Epoch 14:\n"
     ]
    },
    {
     "name": "stderr",
     "output_type": "stream",
     "text": [
      "100%|██████████| 391/391 [00:19<00:00, 19.68it/s]\n"
     ]
    },
    {
     "name": "stdout",
     "output_type": "stream",
     "text": [
      "['loss: 0.45926210284233093', 'acc: 0.8385000228881836']\n",
      "['val_loss: 0.6349931359291077', 'val_acc: 0.7888000011444092']\n",
      "\n",
      "\n",
      "Epoch 15:\n"
     ]
    },
    {
     "name": "stderr",
     "output_type": "stream",
     "text": [
      "100%|██████████| 391/391 [00:19<00:00, 19.68it/s]\n"
     ]
    },
    {
     "name": "stdout",
     "output_type": "stream",
     "text": [
      "['loss: 0.44191446900367737', 'acc: 0.8429200053215027']\n",
      "['val_loss: 0.6312381625175476', 'val_acc: 0.7924000024795532']\n",
      "\n",
      "\n",
      "Epoch 16:\n"
     ]
    },
    {
     "name": "stderr",
     "output_type": "stream",
     "text": [
      "100%|██████████| 391/391 [00:19<00:00, 19.70it/s]\n"
     ]
    },
    {
     "name": "stdout",
     "output_type": "stream",
     "text": [
      "['loss: 0.4231436252593994', 'acc: 0.8511000275611877']\n",
      "['val_loss: 0.6075559258460999', 'val_acc: 0.796500027179718']\n",
      "\n",
      "\n",
      "Epoch 17:\n"
     ]
    },
    {
     "name": "stderr",
     "output_type": "stream",
     "text": [
      "100%|██████████| 391/391 [00:19<00:00, 19.65it/s]\n"
     ]
    },
    {
     "name": "stdout",
     "output_type": "stream",
     "text": [
      "['loss: 0.41186437010765076', 'acc: 0.8540599942207336']\n",
      "['val_loss: 0.6086594462394714', 'val_acc: 0.7997000217437744']\n",
      "\n",
      "\n",
      "Epoch 18:\n"
     ]
    },
    {
     "name": "stderr",
     "output_type": "stream",
     "text": [
      "100%|██████████| 391/391 [00:19<00:00, 20.26it/s]\n"
     ]
    },
    {
     "name": "stdout",
     "output_type": "stream",
     "text": [
      "['loss: 0.3922002911567688', 'acc: 0.8609600067138672']\n",
      "['val_loss: 0.6075337529182434', 'val_acc: 0.8047999739646912']\n",
      "\n",
      "\n",
      "Epoch 19:\n"
     ]
    },
    {
     "name": "stderr",
     "output_type": "stream",
     "text": [
      "100%|██████████| 391/391 [00:19<00:00, 20.28it/s]\n"
     ]
    },
    {
     "name": "stdout",
     "output_type": "stream",
     "text": [
      "['loss: 0.37786865234375', 'acc: 0.866919994354248']\n",
      "['val_loss: 0.61519455909729', 'val_acc: 0.8008000254631042']\n",
      "\n",
      "\n"
     ]
    }
   ],
   "source": [
    "tf.keras.backend.clear_session()\n",
    "\n",
    "model = BasicCNN()\n",
    "\n",
    "training_loop(model=model,\n",
    "                train_ds=train_ds, \n",
    "                val_ds=val_ds, \n",
    "                epochs=20, \n",
    "                train_summary_writer=train_summary_writer, \n",
    "                val_summary_writer=val_summary_writer)"
   ]
  },
  {
   "attachments": {},
   "cell_type": "markdown",
   "metadata": {},
   "source": [
    "For this homework we tried many different setups regarding the optimization of last homeworks results. First we had a look at what difference each optimization technique alone had on model performance and in the end what combining these yielded on performance. So the basic network without any optimization has some overfitting, with training accuracy around 90% and validation accuracy around 70%. L2 regularization alone (we tried values 0.001; 0.01), very slightly improved model performance but not significantly. Then we tried different setups with dropout layers, one where we added dropout layers after each individual layer and in the second after each layer block and each with different dropout values (0.1 and 0.2). The model had the best performance with dropout layers after each individual layer with dropout value set to 0.1, it also helped with overfitting. Data augmentation alone had no significant impact on model performance. Lastly we added batch normalization before each layer block which also significantly improved performance and reduced overfitting. The best combination of techniques was batch norm before each layer block with dropout layers after each individual layer (value 0.1) and L2 regularization (value 0.001) resulting in training accuracy around 86% and validation accuracy around 80%, so the training-validation delta decreased from 20%P to 6%P. Values and graphs for every experiment can be seen in the tensorboard :)"
   ]
  }
 ],
 "metadata": {
  "kernelspec": {
   "display_name": "Python 3.10.6 ('iannwtf')",
   "language": "python",
   "name": "python3"
  },
  "language_info": {
   "codemirror_mode": {
    "name": "ipython",
    "version": 3
   },
   "file_extension": ".py",
   "mimetype": "text/x-python",
   "name": "python",
   "nbconvert_exporter": "python",
   "pygments_lexer": "ipython3",
   "version": "3.10.6 | packaged by conda-forge | (main, Oct 24 2022, 16:02:16) [MSC v.1916 64 bit (AMD64)]"
  },
  "orig_nbformat": 4,
  "vscode": {
   "interpreter": {
    "hash": "63f83f16703f6be7ffd0b8723f3797201bb87b90d9af5c25669f8b533ad7062b"
   }
  }
 },
 "nbformat": 4,
 "nbformat_minor": 2
}
