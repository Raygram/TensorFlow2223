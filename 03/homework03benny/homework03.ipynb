{
 "cells": [
  {
   "cell_type": "code",
   "execution_count": 1,
   "metadata": {},
   "outputs": [
    {
     "name": "stderr",
     "output_type": "stream",
     "text": [
      "c:\\Users\\Benny\\miniconda3\\envs\\iannwtf\\lib\\site-packages\\tqdm\\auto.py:22: TqdmWarning: IProgress not found. Please update jupyter and ipywidgets. See https://ipywidgets.readthedocs.io/en/stable/user_install.html\n",
      "  from .autonotebook import tqdm as notebook_tqdm\n"
     ]
    }
   ],
   "source": [
    "import tensorflow as tf\n",
    "import tensorflow_datasets as tfds\n",
    "import math\n",
    "import datetime\n",
    "import pprint\n",
    "import tqdm\n",
    "# in a notebook, load the tensorboard extension, not needed for scripts\n",
    "%load_ext tensorboard"
   ]
  },
  {
   "cell_type": "code",
   "execution_count": 3,
   "metadata": {},
   "outputs": [],
   "source": [
    "class FFN(tf.keras.Model):\n",
    "    def __init__(self):\n",
    "        super().__init__()\n",
    "    \n",
    "        self.optimizer = tf.keras.optimizers.SGD(learning_rate=0.1)\n",
    "        \n",
    "        self.metrics_list = [\n",
    "                        tf.keras.metrics.Mean(name=\"loss\"),\n",
    "                        tf.keras.metrics.CategoricalAccuracy(name=\"acc\"),\n",
    "                        tf.keras.metrics.TopKCategoricalAccuracy(3,name=\"top-3-acc\") \n",
    "                       ]\n",
    "        \n",
    "        self.loss_function = tf.keras.losses.CategoricalCrossentropy(from_logits=False)   \n",
    "        \n",
    "        # define layers\n",
    "        self.layer1 = tf.keras.layers.Dense(256,activation=tf.nn.relu)\n",
    "        self.layer2 = tf.keras.layers.Dense(256, activation=tf.nn.relu)\n",
    "        self.output_layer = tf.keras.layers.Dense(10, activation=tf.nn.softmax)\n",
    "    \n",
    "    def call(self, x, training=False):\n",
    "        x = self.layer1(x)\n",
    "        x = self.layer2(x)\n",
    "        out = self.output_layer(x)\n",
    "       \n",
    "        return out\n",
    "    \n",
    "    def reset_metrics(self):\n",
    "        \n",
    "        for metric in self.metrics:\n",
    "            metric.reset_states()\n",
    "            \n",
    "    @tf.function\n",
    "    def train_step(self, data):\n",
    "        \n",
    "        x, targets = data\n",
    "        \n",
    "        with tf.GradientTape() as tape:\n",
    "            predictions = self(x, training=True)\n",
    "            \n",
    "            loss = self.loss_function(targets, predictions) + tf.reduce_sum(self.losses)\n",
    "        \n",
    "        gradients = tape.gradient(loss, self.trainable_variables)\n",
    "        self.optimizer.apply_gradients(zip(gradients, self.trainable_variables))\n",
    "        \n",
    "        # update loss metric\n",
    "        self.metrics[0].update_state(loss)\n",
    "        \n",
    "        # for all metrics except loss, update states (accuracy etc.)\n",
    "        for metric in self.metrics[1:]:\n",
    "            metric.update_state(targets,predictions)\n",
    "\n",
    "        # Return a dictionary mapping metric names to current value\n",
    "        return {m.name: m.result() for m in self.metrics}\n",
    "\n",
    "    @tf.function\n",
    "    def test_step(self, data):\n",
    "\n",
    "        x, targets = data\n",
    "        predictions = self(x, training=False)\n",
    "        loss = self.loss_function(targets, predictions) + tf.reduce_sum(self.losses)\n",
    "\n",
    "        self.metrics[0].update_state(loss)\n",
    "        # for accuracy metrics:\n",
    "        for metric in self.metrics[1:]:\n",
    "            metric.update_state(targets, predictions)\n",
    "\n",
    "        return {m.name: m.result() for m in self.metrics}"
   ]
  },
  {
   "cell_type": "code",
   "execution_count": null,
   "metadata": {},
   "outputs": [],
   "source": [
    "train_ds, val_ds = tfds.load(\"mnist\", split=[\"train\", \"test\"], as_supervised=True)\n",
    "\n",
    "train_ds = train_ds.map(lambda img, target:)"
   ]
  },
  {
   "cell_type": "code",
   "execution_count": 4,
   "metadata": {},
   "outputs": [],
   "source": [
    "train_ds, val_ds = tfds.load(\"mnist\", split=[\"train\", \"test\"], as_supervised=True)\n",
    "\n",
    "train_ds = train_ds.map(lambda img, target: ((tf.cast(tf.reshape(img, (-1,)), tf.float32)/128.)-1., tf.one_hot(target, 10, dtype=tf.float32)),\\\n",
    "                        num_parallel_calls=tf.data.AUTOTUNE).cache().shuffle(5000).batch(32).prefetch(tf.data.AUTOTUNE)\n",
    "\n",
    "val_ds = val_ds.map(lambda img, target: ((tf.cast(tf.reshape(img, (-1,)), tf.float32)/128.)-1., tf.one_hot(target, 10, dtype=tf.float32)),\\\n",
    "                    num_parallel_calls=tf.data.AUTOTUNE).cache().batch(32).prefetch(tf.data.AUTOTUNE)\n"
   ]
  },
  {
   "cell_type": "code",
   "execution_count": null,
   "metadata": {},
   "outputs": [],
   "source": []
  },
  {
   "cell_type": "code",
   "execution_count": 4,
   "metadata": {},
   "outputs": [
    {
     "data": {
      "text/plain": [
       "[(<tf.Tensor: shape=(32, 784), dtype=float32, numpy=\n",
       "  array([[-1., -1., -1., ..., -1., -1., -1.],\n",
       "         [-1., -1., -1., ..., -1., -1., -1.],\n",
       "         [-1., -1., -1., ..., -1., -1., -1.],\n",
       "         ...,\n",
       "         [-1., -1., -1., ..., -1., -1., -1.],\n",
       "         [-1., -1., -1., ..., -1., -1., -1.],\n",
       "         [-1., -1., -1., ..., -1., -1., -1.]], dtype=float32)>,\n",
       "  <tf.Tensor: shape=(32, 10), dtype=float32, numpy=\n",
       "  array([[1., 0., 0., 0., 0., 0., 0., 0., 0., 0.],\n",
       "         [0., 0., 0., 0., 0., 0., 1., 0., 0., 0.],\n",
       "         [0., 0., 0., 0., 0., 0., 1., 0., 0., 0.],\n",
       "         [0., 0., 0., 0., 0., 1., 0., 0., 0., 0.],\n",
       "         [1., 0., 0., 0., 0., 0., 0., 0., 0., 0.],\n",
       "         [0., 0., 0., 0., 0., 0., 0., 0., 0., 1.],\n",
       "         [0., 0., 0., 0., 0., 1., 0., 0., 0., 0.],\n",
       "         [0., 0., 0., 0., 0., 1., 0., 0., 0., 0.],\n",
       "         [0., 0., 0., 1., 0., 0., 0., 0., 0., 0.],\n",
       "         [0., 0., 0., 0., 0., 0., 1., 0., 0., 0.],\n",
       "         [0., 0., 0., 0., 0., 0., 0., 1., 0., 0.],\n",
       "         [0., 0., 1., 0., 0., 0., 0., 0., 0., 0.],\n",
       "         [0., 0., 1., 0., 0., 0., 0., 0., 0., 0.],\n",
       "         [0., 1., 0., 0., 0., 0., 0., 0., 0., 0.],\n",
       "         [0., 0., 0., 0., 0., 0., 0., 1., 0., 0.],\n",
       "         [0., 0., 0., 0., 0., 0., 0., 0., 0., 1.],\n",
       "         [0., 0., 0., 0., 0., 0., 0., 0., 1., 0.],\n",
       "         [0., 0., 0., 0., 0., 0., 1., 0., 0., 0.],\n",
       "         [0., 0., 1., 0., 0., 0., 0., 0., 0., 0.],\n",
       "         [0., 0., 0., 0., 0., 0., 0., 0., 0., 1.],\n",
       "         [1., 0., 0., 0., 0., 0., 0., 0., 0., 0.],\n",
       "         [0., 0., 0., 0., 0., 0., 0., 0., 0., 1.],\n",
       "         [0., 0., 0., 0., 0., 0., 1., 0., 0., 0.],\n",
       "         [0., 1., 0., 0., 0., 0., 0., 0., 0., 0.],\n",
       "         [0., 0., 1., 0., 0., 0., 0., 0., 0., 0.],\n",
       "         [0., 1., 0., 0., 0., 0., 0., 0., 0., 0.],\n",
       "         [0., 0., 0., 0., 0., 0., 0., 0., 0., 1.],\n",
       "         [0., 0., 0., 0., 0., 0., 0., 0., 1., 0.],\n",
       "         [0., 0., 0., 0., 0., 0., 1., 0., 0., 0.],\n",
       "         [0., 0., 1., 0., 0., 0., 0., 0., 0., 0.],\n",
       "         [0., 0., 0., 0., 0., 0., 0., 1., 0., 0.],\n",
       "         [0., 1., 0., 0., 0., 0., 0., 0., 0., 0.]], dtype=float32)>)]"
      ]
     },
     "execution_count": 4,
     "metadata": {},
     "output_type": "execute_result"
    }
   ],
   "source": [
    "list(train_ds.take(1))"
   ]
  },
  {
   "cell_type": "code",
   "execution_count": 5,
   "metadata": {},
   "outputs": [
    {
     "name": "stdout",
     "output_type": "stream",
     "text": [
      "Model: \"ffn\"\n",
      "_________________________________________________________________\n",
      " Layer (type)                Output Shape              Param #   \n",
      "=================================================================\n",
      " dense (Dense)               multiple                  200960    \n",
      "                                                                 \n",
      " dense_1 (Dense)             multiple                  65792     \n",
      "                                                                 \n",
      " dense_2 (Dense)             multiple                  2570      \n",
      "                                                                 \n",
      "=================================================================\n",
      "Total params: 269,328\n",
      "Trainable params: 269,322\n",
      "Non-trainable params: 6\n",
      "_________________________________________________________________\n"
     ]
    }
   ],
   "source": [
    "# instantiate the model\n",
    "model = FFN()\n",
    "\n",
    "# run model on input once so the layers are built\n",
    "model(tf.keras.Input((32, 784)))\n",
    "model.summary()"
   ]
  },
  {
   "cell_type": "code",
   "execution_count": 6,
   "metadata": {},
   "outputs": [],
   "source": [
    "# Define where to save the log\n",
    "config_name= \"config_name\"\n",
    "current_time = datetime.datetime.now().strftime(\"%Y%m%d-%H%M%S\")\n",
    "\n",
    "train_log_path = f\"logs/{config_name}/{current_time}/train\"\n",
    "val_log_path = f\"logs/{config_name}/{current_time}/val\"\n",
    "\n",
    "# log writer for training metrics\n",
    "train_summary_writer = tf.summary.create_file_writer(train_log_path)\n",
    "\n",
    "# log writer for validation metrics\n",
    "val_summary_writer = tf.summary.create_file_writer(val_log_path)"
   ]
  },
  {
   "cell_type": "code",
   "execution_count": 7,
   "metadata": {},
   "outputs": [],
   "source": [
    "def training_loop(model, train_ds, val_ds, epochs, train_summary_writer, val_summary_writer):\n",
    "    for epoch in range(epochs):\n",
    "        print(f\"Epoch {epoch}:\")\n",
    "        \n",
    "        # Training:\n",
    "        tq = tqdm.tqdm(train_ds, position=0, leave=True)\n",
    "        for data in tq:\n",
    "            metrics = model.train_step(data)\n",
    "            # logging the validation metrics to the log file which is used by tensorboard\n",
    "            with train_summary_writer.as_default():\n",
    "                for metric in model.metrics:\n",
    "\n",
    "                    # if metric\n",
    "                    # tq.set_description(f\"MSE: {}\",refresh=True)\n",
    "                    tf.summary.scalar(f\"{metric.name}\", metric.result(), step=epoch)\n",
    "\n",
    "        # print the metrics\n",
    "        print([f\"{key}: {value.numpy()}\" for (key, value) in metrics.items()])\n",
    "\n",
    "        # reset all metrics (requires a reset_metrics method in the model)\n",
    "        model.reset_metrics()    \n",
    "        \n",
    "        # Validation:\n",
    "        for data in val_ds:\n",
    "            metrics = model.test_step(data)\n",
    "        \n",
    "            # logging the validation metrics to the log file which is used by tensorboard\n",
    "            with val_summary_writer.as_default():\n",
    "                for metric in model.metrics:\n",
    "                    tf.summary.scalar(f\"{metric.name}\", metric.result(), step=epoch)\n",
    "                    \n",
    "        print([f\"val_{key}: {value.numpy()}\" for (key, value) in metrics.items()])\n",
    "\n",
    "        # reset all metrics\n",
    "        model.reset_metrics()\n",
    "        print(\"\\n\")"
   ]
  },
  {
   "cell_type": "code",
   "execution_count": 8,
   "metadata": {},
   "outputs": [
    {
     "data": {
      "text/plain": [
       "Reusing TensorBoard on port 6006 (pid 16280), started 1:27:34 ago. (Use '!kill 16280' to kill it.)"
      ]
     },
     "metadata": {},
     "output_type": "display_data"
    },
    {
     "data": {
      "text/html": [
       "\n",
       "      <iframe id=\"tensorboard-frame-f95b1c702dba1d52\" width=\"100%\" height=\"800\" frameborder=\"0\">\n",
       "      </iframe>\n",
       "      <script>\n",
       "        (function() {\n",
       "          const frame = document.getElementById(\"tensorboard-frame-f95b1c702dba1d52\");\n",
       "          const url = new URL(\"http://localhost\");\n",
       "          const port = 6006;\n",
       "          if (port) {\n",
       "            url.port = port;\n",
       "          }\n",
       "          frame.src = url;\n",
       "        })();\n",
       "      </script>\n",
       "    "
      ],
      "text/plain": [
       "<IPython.core.display.HTML object>"
      ]
     },
     "metadata": {},
     "output_type": "display_data"
    }
   ],
   "source": [
    "%tensorboard --logdir logs/"
   ]
  },
  {
   "cell_type": "code",
   "execution_count": 9,
   "metadata": {},
   "outputs": [
    {
     "name": "stdout",
     "output_type": "stream",
     "text": [
      "Epoch 0:\n"
     ]
    },
    {
     "name": "stderr",
     "output_type": "stream",
     "text": [
      "100%|██████████| 1875/1875 [00:26<00:00, 71.94it/s]\n"
     ]
    },
    {
     "name": "stdout",
     "output_type": "stream",
     "text": [
      "['loss: 0.34150853753089905', 'acc: 0.8912166953086853', 'top-3-acc: 0.9734166860580444']\n",
      "['val_loss: 0.15371127426624298', 'val_acc: 0.9517999887466431', 'val_top-3-acc: 0.9930999875068665']\n",
      "\n",
      "\n",
      "Epoch 1:\n"
     ]
    },
    {
     "name": "stderr",
     "output_type": "stream",
     "text": [
      "100%|██████████| 1875/1875 [00:26<00:00, 70.42it/s]\n"
     ]
    },
    {
     "name": "stdout",
     "output_type": "stream",
     "text": [
      "['loss: 0.13463154435157776', 'acc: 0.9584833383560181', 'top-3-acc: 0.994949996471405']\n",
      "['val_loss: 0.1248740628361702', 'val_acc: 0.9607999920845032', 'val_top-3-acc: 0.9939000010490417']\n",
      "\n",
      "\n",
      "Epoch 2:\n"
     ]
    },
    {
     "name": "stderr",
     "output_type": "stream",
     "text": [
      "100%|██████████| 1875/1875 [00:27<00:00, 67.61it/s]\n"
     ]
    },
    {
     "name": "stdout",
     "output_type": "stream",
     "text": [
      "['loss: 0.09958094358444214', 'acc: 0.968666672706604', 'top-3-acc: 0.9969000220298767']\n",
      "['val_loss: 0.09707801043987274', 'val_acc: 0.9678000211715698', 'val_top-3-acc: 0.9968000054359436']\n",
      "\n",
      "\n",
      "Epoch 3:\n"
     ]
    },
    {
     "name": "stderr",
     "output_type": "stream",
     "text": [
      "100%|██████████| 1875/1875 [00:25<00:00, 73.67it/s]\n"
     ]
    },
    {
     "name": "stdout",
     "output_type": "stream",
     "text": [
      "['loss: 0.07865321636199951', 'acc: 0.9748666882514954', 'top-3-acc: 0.9980833530426025']\n",
      "['val_loss: 0.0983724370598793', 'val_acc: 0.968999981880188', 'val_top-3-acc: 0.9976000189781189']\n",
      "\n",
      "\n",
      "Epoch 4:\n"
     ]
    },
    {
     "name": "stderr",
     "output_type": "stream",
     "text": [
      "100%|██████████| 1875/1875 [00:27<00:00, 68.05it/s]\n"
     ]
    },
    {
     "name": "stdout",
     "output_type": "stream",
     "text": [
      "['loss: 0.06431134790182114', 'acc: 0.9798166751861572', 'top-3-acc: 0.9986000061035156']\n",
      "['val_loss: 0.08546897023916245', 'val_acc: 0.9710999727249146', 'val_top-3-acc: 0.9975000023841858']\n",
      "\n",
      "\n",
      "Epoch 5:\n"
     ]
    },
    {
     "name": "stderr",
     "output_type": "stream",
     "text": [
      "100%|██████████| 1875/1875 [00:23<00:00, 81.15it/s]\n"
     ]
    },
    {
     "name": "stdout",
     "output_type": "stream",
     "text": [
      "['loss: 0.054179172962903976', 'acc: 0.98253333568573', 'top-3-acc: 0.9990500211715698']\n",
      "['val_loss: 0.09746911376714706', 'val_acc: 0.9690999984741211', 'val_top-3-acc: 0.9980000257492065']\n",
      "\n",
      "\n",
      "Epoch 6:\n"
     ]
    },
    {
     "name": "stderr",
     "output_type": "stream",
     "text": [
      "100%|██████████| 1875/1875 [00:20<00:00, 92.43it/s]\n"
     ]
    },
    {
     "name": "stdout",
     "output_type": "stream",
     "text": [
      "['loss: 0.046427104622125626', 'acc: 0.984666645526886', 'top-3-acc: 0.9994666576385498']\n",
      "['val_loss: 0.0979091078042984', 'val_acc: 0.9706000089645386', 'val_top-3-acc: 0.9975000023841858']\n",
      "\n",
      "\n",
      "Epoch 7:\n"
     ]
    },
    {
     "name": "stderr",
     "output_type": "stream",
     "text": [
      "100%|██████████| 1875/1875 [00:23<00:00, 81.32it/s]\n"
     ]
    },
    {
     "name": "stdout",
     "output_type": "stream",
     "text": [
      "['loss: 0.038938894867897034', 'acc: 0.9867166876792908', 'top-3-acc: 0.9995333552360535']\n",
      "['val_loss: 0.08633707463741302', 'val_acc: 0.9760000109672546', 'val_top-3-acc: 0.9977999925613403']\n",
      "\n",
      "\n",
      "Epoch 8:\n"
     ]
    },
    {
     "name": "stderr",
     "output_type": "stream",
     "text": [
      "100%|██████████| 1875/1875 [00:25<00:00, 74.85it/s]\n"
     ]
    },
    {
     "name": "stdout",
     "output_type": "stream",
     "text": [
      "['loss: 0.033453091979026794', 'acc: 0.9888666868209839', 'top-3-acc: 0.9996333122253418']\n",
      "['val_loss: 0.07460270822048187', 'val_acc: 0.9776999950408936', 'val_top-3-acc: 0.9983000159263611']\n",
      "\n",
      "\n",
      "Epoch 9:\n"
     ]
    },
    {
     "name": "stderr",
     "output_type": "stream",
     "text": [
      "100%|██████████| 1875/1875 [00:25<00:00, 73.63it/s]\n"
     ]
    },
    {
     "name": "stdout",
     "output_type": "stream",
     "text": [
      "['loss: 0.02890862710773945', 'acc: 0.9899166822433472', 'top-3-acc: 0.9997000098228455']\n",
      "['val_loss: 0.07793331146240234', 'val_acc: 0.9778000116348267', 'val_top-3-acc: 0.9979000091552734']\n",
      "\n",
      "\n",
      "Epoch 10:\n"
     ]
    },
    {
     "name": "stderr",
     "output_type": "stream",
     "text": [
      "100%|██████████| 1875/1875 [00:25<00:00, 74.73it/s]\n"
     ]
    },
    {
     "name": "stdout",
     "output_type": "stream",
     "text": [
      "['loss: 0.02432647906243801', 'acc: 0.9924666881561279', 'top-3-acc: 0.999750018119812']\n",
      "['val_loss: 0.07568110525608063', 'val_acc: 0.9794999957084656', 'val_top-3-acc: 0.9979000091552734']\n",
      "\n",
      "\n",
      "Epoch 11:\n"
     ]
    },
    {
     "name": "stderr",
     "output_type": "stream",
     "text": [
      "100%|██████████| 1875/1875 [00:24<00:00, 75.48it/s]\n"
     ]
    },
    {
     "name": "stdout",
     "output_type": "stream",
     "text": [
      "['loss: 0.019032234326004982', 'acc: 0.9939500093460083', 'top-3-acc: 0.999916672706604']\n",
      "['val_loss: 0.06958574801683426', 'val_acc: 0.9811000227928162', 'val_top-3-acc: 0.9983999729156494']\n",
      "\n",
      "\n",
      "Epoch 12:\n"
     ]
    },
    {
     "name": "stderr",
     "output_type": "stream",
     "text": [
      "100%|██████████| 1875/1875 [00:24<00:00, 76.44it/s]\n"
     ]
    },
    {
     "name": "stdout",
     "output_type": "stream",
     "text": [
      "['loss: 0.01953180879354477', 'acc: 0.9933666586875916', 'top-3-acc: 0.999916672706604']\n",
      "['val_loss: 0.07967589795589447', 'val_acc: 0.9790999889373779', 'val_top-3-acc: 0.998199999332428']\n",
      "\n",
      "\n",
      "Epoch 13:\n"
     ]
    },
    {
     "name": "stderr",
     "output_type": "stream",
     "text": [
      "100%|██████████| 1875/1875 [00:24<00:00, 75.51it/s]\n"
     ]
    },
    {
     "name": "stdout",
     "output_type": "stream",
     "text": [
      "['loss: 0.018371999263763428', 'acc: 0.9935500025749207', 'top-3-acc: 0.9998999834060669']\n",
      "['val_loss: 0.08659365773200989', 'val_acc: 0.9761999845504761', 'val_top-3-acc: 0.9983000159263611']\n",
      "\n",
      "\n",
      "Epoch 14:\n"
     ]
    },
    {
     "name": "stderr",
     "output_type": "stream",
     "text": [
      "100%|██████████| 1875/1875 [00:23<00:00, 78.41it/s]\n"
     ]
    },
    {
     "name": "stdout",
     "output_type": "stream",
     "text": [
      "['loss: 0.0127332154661417', 'acc: 0.9957166910171509', 'top-3-acc: 0.9999499917030334']\n",
      "['val_loss: 0.09034107625484467', 'val_acc: 0.9789999723434448', 'val_top-3-acc: 0.9977999925613403']\n",
      "\n",
      "\n",
      "Epoch 15:\n"
     ]
    },
    {
     "name": "stderr",
     "output_type": "stream",
     "text": [
      "100%|██████████| 1875/1875 [00:27<00:00, 69.01it/s]\n"
     ]
    },
    {
     "name": "stdout",
     "output_type": "stream",
     "text": [
      "['loss: 0.013365108519792557', 'acc: 0.9956333041191101', 'top-3-acc: 0.9999333620071411']\n",
      "['val_loss: 0.08867717534303665', 'val_acc: 0.9787999987602234', 'val_top-3-acc: 0.9976999759674072']\n",
      "\n",
      "\n",
      "Epoch 16:\n"
     ]
    },
    {
     "name": "stderr",
     "output_type": "stream",
     "text": [
      "100%|██████████| 1875/1875 [00:25<00:00, 72.99it/s]\n"
     ]
    },
    {
     "name": "stdout",
     "output_type": "stream",
     "text": [
      "['loss: 0.011150045320391655', 'acc: 0.9960833191871643', 'top-3-acc: 0.9999666810035706']\n",
      "['val_loss: 0.09422758966684341', 'val_acc: 0.9783999919891357', 'val_top-3-acc: 0.998199999332428']\n",
      "\n",
      "\n",
      "Epoch 17:\n"
     ]
    },
    {
     "name": "stderr",
     "output_type": "stream",
     "text": [
      "100%|██████████| 1875/1875 [00:25<00:00, 72.93it/s]\n"
     ]
    },
    {
     "name": "stdout",
     "output_type": "stream",
     "text": [
      "['loss: 0.010992918163537979', 'acc: 0.9964666962623596', 'top-3-acc: 0.9999833106994629']\n",
      "['val_loss: 0.08364678174257278', 'val_acc: 0.9803000092506409', 'val_top-3-acc: 0.9980999827384949']\n",
      "\n",
      "\n",
      "Epoch 18:\n"
     ]
    },
    {
     "name": "stderr",
     "output_type": "stream",
     "text": [
      "100%|██████████| 1875/1875 [00:26<00:00, 69.47it/s]\n"
     ]
    },
    {
     "name": "stdout",
     "output_type": "stream",
     "text": [
      "['loss: 0.007680567447096109', 'acc: 0.9976166486740112', 'top-3-acc: 0.9999833106994629']\n",
      "['val_loss: 0.08036080002784729', 'val_acc: 0.9818000197410583', 'val_top-3-acc: 0.998199999332428']\n",
      "\n",
      "\n",
      "Epoch 19:\n"
     ]
    },
    {
     "name": "stderr",
     "output_type": "stream",
     "text": [
      "100%|██████████| 1875/1875 [00:22<00:00, 84.42it/s]\n"
     ]
    },
    {
     "name": "stdout",
     "output_type": "stream",
     "text": [
      "['loss: 0.009261597879230976', 'acc: 0.996833324432373', 'top-3-acc: 0.9999833106994629']\n",
      "['val_loss: 0.09114983677864075', 'val_acc: 0.9805999994277954', 'val_top-3-acc: 0.9976999759674072']\n",
      "\n",
      "\n",
      "Epoch 20:\n"
     ]
    },
    {
     "name": "stderr",
     "output_type": "stream",
     "text": [
      "100%|██████████| 1875/1875 [00:22<00:00, 81.97it/s]\n"
     ]
    },
    {
     "name": "stdout",
     "output_type": "stream",
     "text": [
      "['loss: 0.008768885396420956', 'acc: 0.9970999956130981', 'top-3-acc: 1.0']\n",
      "['val_loss: 0.08397651463747025', 'val_acc: 0.9812999963760376', 'val_top-3-acc: 0.9980000257492065']\n",
      "\n",
      "\n",
      "Epoch 21:\n"
     ]
    },
    {
     "name": "stderr",
     "output_type": "stream",
     "text": [
      "100%|██████████| 1875/1875 [00:22<00:00, 81.68it/s]\n"
     ]
    },
    {
     "name": "stdout",
     "output_type": "stream",
     "text": [
      "['loss: 0.0049278209917247295', 'acc: 0.9983999729156494', 'top-3-acc: 1.0']\n",
      "['val_loss: 0.08147501945495605', 'val_acc: 0.980400025844574', 'val_top-3-acc: 0.9983999729156494']\n",
      "\n",
      "\n",
      "Epoch 22:\n"
     ]
    },
    {
     "name": "stderr",
     "output_type": "stream",
     "text": [
      "100%|██████████| 1875/1875 [00:22<00:00, 81.81it/s]\n"
     ]
    },
    {
     "name": "stdout",
     "output_type": "stream",
     "text": [
      "['loss: 0.007986768148839474', 'acc: 0.9971833229064941', 'top-3-acc: 0.9999833106994629']\n",
      "['val_loss: 0.08740774542093277', 'val_acc: 0.9800999760627747', 'val_top-3-acc: 0.9979000091552734']\n",
      "\n",
      "\n",
      "Epoch 23:\n"
     ]
    },
    {
     "name": "stderr",
     "output_type": "stream",
     "text": [
      "100%|██████████| 1875/1875 [00:23<00:00, 79.39it/s]\n"
     ]
    },
    {
     "name": "stdout",
     "output_type": "stream",
     "text": [
      "['loss: 0.007285546977072954', 'acc: 0.9974499940872192', 'top-3-acc: 1.0']\n",
      "['val_loss: 0.0820651650428772', 'val_acc: 0.9830999970436096', 'val_top-3-acc: 0.9979000091552734']\n",
      "\n",
      "\n",
      "Epoch 24:\n"
     ]
    },
    {
     "name": "stderr",
     "output_type": "stream",
     "text": [
      "100%|██████████| 1875/1875 [00:22<00:00, 81.89it/s]\n"
     ]
    },
    {
     "name": "stdout",
     "output_type": "stream",
     "text": [
      "['loss: 0.0027594880666583776', 'acc: 0.9991666674613953', 'top-3-acc: 1.0']\n",
      "['val_loss: 0.08859468996524811', 'val_acc: 0.9818000197410583', 'val_top-3-acc: 0.9977999925613403']\n",
      "\n",
      "\n",
      "Epoch 25:\n"
     ]
    },
    {
     "name": "stderr",
     "output_type": "stream",
     "text": [
      "100%|██████████| 1875/1875 [00:23<00:00, 80.70it/s]\n"
     ]
    },
    {
     "name": "stdout",
     "output_type": "stream",
     "text": [
      "['loss: 0.004593678750097752', 'acc: 0.998449981212616', 'top-3-acc: 1.0']\n",
      "['val_loss: 0.103614941239357', 'val_acc: 0.9789999723434448', 'val_top-3-acc: 0.9976999759674072']\n",
      "\n",
      "\n",
      "Epoch 26:\n"
     ]
    },
    {
     "name": "stderr",
     "output_type": "stream",
     "text": [
      "100%|██████████| 1875/1875 [00:25<00:00, 73.30it/s]\n"
     ]
    },
    {
     "name": "stdout",
     "output_type": "stream",
     "text": [
      "['loss: 0.008674440905451775', 'acc: 0.9972833395004272', 'top-3-acc: 0.9999833106994629']\n",
      "['val_loss: 0.10539736598730087', 'val_acc: 0.9782999753952026', 'val_top-3-acc: 0.9976999759674072']\n",
      "\n",
      "\n",
      "Epoch 27:\n"
     ]
    },
    {
     "name": "stderr",
     "output_type": "stream",
     "text": [
      "100%|██████████| 1875/1875 [00:25<00:00, 73.91it/s]\n"
     ]
    },
    {
     "name": "stdout",
     "output_type": "stream",
     "text": [
      "['loss: 0.007340386509895325', 'acc: 0.9974333047866821', 'top-3-acc: 0.9999833106994629']\n",
      "['val_loss: 0.09869898110628128', 'val_acc: 0.9797999858856201', 'val_top-3-acc: 0.998199999332428']\n",
      "\n",
      "\n",
      "Epoch 28:\n"
     ]
    },
    {
     "name": "stderr",
     "output_type": "stream",
     "text": [
      "100%|██████████| 1875/1875 [00:24<00:00, 76.34it/s]\n"
     ]
    },
    {
     "name": "stdout",
     "output_type": "stream",
     "text": [
      "['loss: 0.004301588516682386', 'acc: 0.9984999895095825', 'top-3-acc: 1.0']\n",
      "['val_loss: 0.10573913156986237', 'val_acc: 0.9799000024795532', 'val_top-3-acc: 0.9980000257492065']\n",
      "\n",
      "\n",
      "Epoch 29:\n"
     ]
    },
    {
     "name": "stderr",
     "output_type": "stream",
     "text": [
      "100%|██████████| 1875/1875 [00:24<00:00, 76.00it/s]\n"
     ]
    },
    {
     "name": "stdout",
     "output_type": "stream",
     "text": [
      "['loss: 0.0015110253589227796', 'acc: 0.9997166395187378', 'top-3-acc: 1.0']\n",
      "['val_loss: 0.09421123564243317', 'val_acc: 0.9818000197410583', 'val_top-3-acc: 0.9984999895095825']\n",
      "\n",
      "\n",
      "Epoch 30:\n"
     ]
    },
    {
     "name": "stderr",
     "output_type": "stream",
     "text": [
      "100%|██████████| 1875/1875 [00:24<00:00, 75.80it/s]\n"
     ]
    },
    {
     "name": "stdout",
     "output_type": "stream",
     "text": [
      "['loss: 0.0018317471258342266', 'acc: 0.9995499849319458', 'top-3-acc: 1.0']\n",
      "['val_loss: 0.09092629700899124', 'val_acc: 0.9825999736785889', 'val_top-3-acc: 0.9983999729156494']\n",
      "\n",
      "\n",
      "Epoch 31:\n"
     ]
    },
    {
     "name": "stderr",
     "output_type": "stream",
     "text": [
      "100%|██████████| 1875/1875 [00:24<00:00, 75.34it/s]\n"
     ]
    },
    {
     "name": "stdout",
     "output_type": "stream",
     "text": [
      "['loss: 0.0008259740425273776', 'acc: 0.9998000264167786', 'top-3-acc: 1.0']\n",
      "['val_loss: 0.08755786716938019', 'val_acc: 0.9833999872207642', 'val_top-3-acc: 0.9984999895095825']\n",
      "\n",
      "\n",
      "Epoch 32:\n"
     ]
    },
    {
     "name": "stderr",
     "output_type": "stream",
     "text": [
      "100%|██████████| 1875/1875 [00:25<00:00, 74.53it/s]\n"
     ]
    },
    {
     "name": "stdout",
     "output_type": "stream",
     "text": [
      "['loss: 0.00047650118358433247', 'acc: 0.9998999834060669', 'top-3-acc: 1.0']\n",
      "['val_loss: 0.08798333257436752', 'val_acc: 0.9828000068664551', 'val_top-3-acc: 0.9984999895095825']\n",
      "\n",
      "\n",
      "Epoch 33:\n"
     ]
    },
    {
     "name": "stderr",
     "output_type": "stream",
     "text": [
      "100%|██████████| 1875/1875 [00:26<00:00, 71.13it/s]\n"
     ]
    },
    {
     "name": "stdout",
     "output_type": "stream",
     "text": [
      "['loss: 0.00037925707874819636', 'acc: 0.999916672706604', 'top-3-acc: 1.0']\n",
      "['val_loss: 0.08921276777982712', 'val_acc: 0.9825999736785889', 'val_top-3-acc: 0.9984999895095825']\n",
      "\n",
      "\n",
      "Epoch 34:\n"
     ]
    },
    {
     "name": "stderr",
     "output_type": "stream",
     "text": [
      "100%|██████████| 1875/1875 [00:25<00:00, 72.83it/s]\n"
     ]
    },
    {
     "name": "stdout",
     "output_type": "stream",
     "text": [
      "['loss: 0.0001407239178661257', 'acc: 1.0', 'top-3-acc: 1.0']\n",
      "['val_loss: 0.08678590506315231', 'val_acc: 0.9833999872207642', 'val_top-3-acc: 0.9987000226974487']\n",
      "\n",
      "\n",
      "Epoch 35:\n"
     ]
    },
    {
     "name": "stderr",
     "output_type": "stream",
     "text": [
      "100%|██████████| 1875/1875 [00:24<00:00, 75.32it/s]\n"
     ]
    },
    {
     "name": "stdout",
     "output_type": "stream",
     "text": [
      "['loss: 0.0001016379173961468', 'acc: 1.0', 'top-3-acc: 1.0']\n",
      "['val_loss: 0.08670958131551743', 'val_acc: 0.9837999939918518', 'val_top-3-acc: 0.9987000226974487']\n",
      "\n",
      "\n",
      "Epoch 36:\n"
     ]
    },
    {
     "name": "stderr",
     "output_type": "stream",
     "text": [
      "100%|██████████| 1875/1875 [00:30<00:00, 60.69it/s]\n"
     ]
    },
    {
     "name": "stdout",
     "output_type": "stream",
     "text": [
      "['loss: 8.748135587666184e-05', 'acc: 1.0', 'top-3-acc: 1.0']\n",
      "['val_loss: 0.0868687778711319', 'val_acc: 0.9836999773979187', 'val_top-3-acc: 0.9987000226974487']\n",
      "\n",
      "\n",
      "Epoch 37:\n"
     ]
    },
    {
     "name": "stderr",
     "output_type": "stream",
     "text": [
      "100%|██████████| 1875/1875 [00:27<00:00, 67.85it/s]\n"
     ]
    },
    {
     "name": "stdout",
     "output_type": "stream",
     "text": [
      "['loss: 8.079349208856001e-05', 'acc: 1.0', 'top-3-acc: 1.0']\n",
      "['val_loss: 0.0869741439819336', 'val_acc: 0.9836999773979187', 'val_top-3-acc: 0.9987000226974487']\n",
      "\n",
      "\n",
      "Epoch 38:\n"
     ]
    },
    {
     "name": "stderr",
     "output_type": "stream",
     "text": [
      "100%|██████████| 1875/1875 [00:25<00:00, 72.16it/s]\n"
     ]
    },
    {
     "name": "stdout",
     "output_type": "stream",
     "text": [
      "['loss: 7.585734419990331e-05', 'acc: 1.0', 'top-3-acc: 1.0']\n",
      "['val_loss: 0.0871395394206047', 'val_acc: 0.9836000204086304', 'val_top-3-acc: 0.9987000226974487']\n",
      "\n",
      "\n",
      "Epoch 39:\n"
     ]
    },
    {
     "name": "stderr",
     "output_type": "stream",
     "text": [
      "100%|██████████| 1875/1875 [00:25<00:00, 73.96it/s]\n"
     ]
    },
    {
     "name": "stdout",
     "output_type": "stream",
     "text": [
      "['loss: 7.058738265186548e-05', 'acc: 1.0', 'top-3-acc: 1.0']\n",
      "['val_loss: 0.08735715597867966', 'val_acc: 0.9836000204086304', 'val_top-3-acc: 0.9987000226974487']\n",
      "\n",
      "\n",
      "Epoch 40:\n"
     ]
    },
    {
     "name": "stderr",
     "output_type": "stream",
     "text": [
      "100%|██████████| 1875/1875 [00:23<00:00, 79.12it/s]\n"
     ]
    },
    {
     "name": "stdout",
     "output_type": "stream",
     "text": [
      "['loss: 6.645343819400296e-05', 'acc: 1.0', 'top-3-acc: 1.0']\n",
      "['val_loss: 0.08757936209440231', 'val_acc: 0.9836999773979187', 'val_top-3-acc: 0.9987000226974487']\n",
      "\n",
      "\n",
      "Epoch 41:\n"
     ]
    },
    {
     "name": "stderr",
     "output_type": "stream",
     "text": [
      "100%|██████████| 1875/1875 [00:22<00:00, 82.26it/s]\n"
     ]
    },
    {
     "name": "stdout",
     "output_type": "stream",
     "text": [
      "['loss: 6.296357605606318e-05', 'acc: 1.0', 'top-3-acc: 1.0']\n",
      "['val_loss: 0.08785348385572433', 'val_acc: 0.9836999773979187', 'val_top-3-acc: 0.9986000061035156']\n",
      "\n",
      "\n",
      "Epoch 42:\n"
     ]
    },
    {
     "name": "stderr",
     "output_type": "stream",
     "text": [
      "100%|██████████| 1875/1875 [00:23<00:00, 78.13it/s]\n"
     ]
    },
    {
     "name": "stdout",
     "output_type": "stream",
     "text": [
      "['loss: 6.0229056543903425e-05', 'acc: 1.0', 'top-3-acc: 1.0']\n",
      "['val_loss: 0.0880521610379219', 'val_acc: 0.9836000204086304', 'val_top-3-acc: 0.9986000061035156']\n",
      "\n",
      "\n",
      "Epoch 43:\n"
     ]
    },
    {
     "name": "stderr",
     "output_type": "stream",
     "text": [
      "100%|██████████| 1875/1875 [00:22<00:00, 83.83it/s]\n"
     ]
    },
    {
     "name": "stdout",
     "output_type": "stream",
     "text": [
      "['loss: 5.775853060185909e-05', 'acc: 1.0', 'top-3-acc: 1.0']\n",
      "['val_loss: 0.0881437435746193', 'val_acc: 0.9837999939918518', 'val_top-3-acc: 0.9986000061035156']\n",
      "\n",
      "\n",
      "Epoch 44:\n"
     ]
    },
    {
     "name": "stderr",
     "output_type": "stream",
     "text": [
      "100%|██████████| 1875/1875 [00:23<00:00, 81.05it/s]\n"
     ]
    },
    {
     "name": "stdout",
     "output_type": "stream",
     "text": [
      "['loss: 5.522563515114598e-05', 'acc: 1.0', 'top-3-acc: 1.0']\n",
      "['val_loss: 0.08845759183168411', 'val_acc: 0.9839000105857849', 'val_top-3-acc: 0.9986000061035156']\n",
      "\n",
      "\n",
      "Epoch 45:\n"
     ]
    },
    {
     "name": "stderr",
     "output_type": "stream",
     "text": [
      "100%|██████████| 1875/1875 [00:23<00:00, 81.38it/s]\n"
     ]
    },
    {
     "name": "stdout",
     "output_type": "stream",
     "text": [
      "['loss: 5.329292980604805e-05', 'acc: 1.0', 'top-3-acc: 1.0']\n",
      "['val_loss: 0.0886065661907196', 'val_acc: 0.9839000105857849', 'val_top-3-acc: 0.9986000061035156']\n",
      "\n",
      "\n",
      "Epoch 46:\n"
     ]
    },
    {
     "name": "stderr",
     "output_type": "stream",
     "text": [
      "100%|██████████| 1875/1875 [00:22<00:00, 83.29it/s]\n"
     ]
    },
    {
     "name": "stdout",
     "output_type": "stream",
     "text": [
      "['loss: 5.10859172209166e-05', 'acc: 1.0', 'top-3-acc: 1.0']\n",
      "['val_loss: 0.08877644687891006', 'val_acc: 0.984000027179718', 'val_top-3-acc: 0.9986000061035156']\n",
      "\n",
      "\n",
      "Epoch 47:\n"
     ]
    },
    {
     "name": "stderr",
     "output_type": "stream",
     "text": [
      "100%|██████████| 1875/1875 [00:22<00:00, 82.03it/s]\n"
     ]
    },
    {
     "name": "stdout",
     "output_type": "stream",
     "text": [
      "['loss: 4.9554233555682003e-05', 'acc: 1.0', 'top-3-acc: 1.0']\n",
      "['val_loss: 0.08892601728439331', 'val_acc: 0.984000027179718', 'val_top-3-acc: 0.9986000061035156']\n",
      "\n",
      "\n",
      "Epoch 48:\n"
     ]
    },
    {
     "name": "stderr",
     "output_type": "stream",
     "text": [
      "100%|██████████| 1875/1875 [00:23<00:00, 79.66it/s]\n"
     ]
    },
    {
     "name": "stdout",
     "output_type": "stream",
     "text": [
      "['loss: 4.811776307178661e-05', 'acc: 1.0', 'top-3-acc: 1.0']\n",
      "['val_loss: 0.08911961317062378', 'val_acc: 0.9839000105857849', 'val_top-3-acc: 0.9986000061035156']\n",
      "\n",
      "\n",
      "Epoch 49:\n"
     ]
    },
    {
     "name": "stderr",
     "output_type": "stream",
     "text": [
      "100%|██████████| 1875/1875 [00:23<00:00, 80.34it/s]\n"
     ]
    },
    {
     "name": "stdout",
     "output_type": "stream",
     "text": [
      "['loss: 4.651385097531602e-05', 'acc: 1.0', 'top-3-acc: 1.0']\n",
      "['val_loss: 0.08929443359375', 'val_acc: 0.9839000105857849', 'val_top-3-acc: 0.9986000061035156']\n",
      "\n",
      "\n"
     ]
    }
   ],
   "source": [
    "# run the training loop \n",
    "training_loop(model=model, \n",
    "                train_ds=train_ds, \n",
    "                val_ds=val_ds, \n",
    "                epochs=50, \n",
    "                train_summary_writer=train_summary_writer, \n",
    "                val_summary_writer=val_summary_writer)"
   ]
  },
  {
   "cell_type": "code",
   "execution_count": 10,
   "metadata": {},
   "outputs": [
    {
     "ename": "ValueError",
     "evalue": "Received incompatible tensor with shape (784, 256) when attempting to restore variable with shape (1, 256) and name layer1/kernel/.ATTRIBUTES/VARIABLE_VALUE.",
     "output_type": "error",
     "traceback": [
      "\u001b[1;31m---------------------------------------------------------------------------\u001b[0m",
      "\u001b[1;31mValueError\u001b[0m                                Traceback (most recent call last)",
      "Cell \u001b[1;32mIn [10], line 13\u001b[0m\n\u001b[0;32m     10\u001b[0m loaded_model(inp)\n\u001b[0;32m     12\u001b[0m \u001b[39m# load the model weights to continue training. \u001b[39;00m\n\u001b[1;32m---> 13\u001b[0m loaded_model\u001b[39m.\u001b[39;49mload_weights(\u001b[39mf\u001b[39;49m\u001b[39m\"\u001b[39;49m\u001b[39msaved_model_\u001b[39;49m\u001b[39m{\u001b[39;49;00mconfig_name\u001b[39m}\u001b[39;49;00m\u001b[39m\"\u001b[39;49m);\n\u001b[0;32m     15\u001b[0m \u001b[39m# continue training (but: optimizer state is lost)\u001b[39;00m\n\u001b[0;32m     16\u001b[0m \n\u001b[0;32m     17\u001b[0m \u001b[39m# run the training loop \u001b[39;00m\n\u001b[0;32m     18\u001b[0m training_loop(model\u001b[39m=\u001b[39mloaded_model, \n\u001b[0;32m     19\u001b[0m                 train_ds\u001b[39m=\u001b[39mtrain_ds, \n\u001b[0;32m     20\u001b[0m                 val_ds\u001b[39m=\u001b[39mval_ds, \n\u001b[0;32m     21\u001b[0m                 epochs\u001b[39m=\u001b[39m\u001b[39m10\u001b[39m, \n\u001b[0;32m     22\u001b[0m                 train_summary_writer\u001b[39m=\u001b[39mtrain_summary_writer, \n\u001b[0;32m     23\u001b[0m                 val_summary_writer\u001b[39m=\u001b[39mval_summary_writer)\n",
      "File \u001b[1;32mc:\\Users\\Benny\\miniconda3\\envs\\iannwtf\\lib\\site-packages\\keras\\utils\\traceback_utils.py:70\u001b[0m, in \u001b[0;36mfilter_traceback.<locals>.error_handler\u001b[1;34m(*args, **kwargs)\u001b[0m\n\u001b[0;32m     67\u001b[0m     filtered_tb \u001b[39m=\u001b[39m _process_traceback_frames(e\u001b[39m.\u001b[39m__traceback__)\n\u001b[0;32m     68\u001b[0m     \u001b[39m# To get the full stack trace, call:\u001b[39;00m\n\u001b[0;32m     69\u001b[0m     \u001b[39m# `tf.debugging.disable_traceback_filtering()`\u001b[39;00m\n\u001b[1;32m---> 70\u001b[0m     \u001b[39mraise\u001b[39;00m e\u001b[39m.\u001b[39mwith_traceback(filtered_tb) \u001b[39mfrom\u001b[39;00m \u001b[39mNone\u001b[39m\n\u001b[0;32m     71\u001b[0m \u001b[39mfinally\u001b[39;00m:\n\u001b[0;32m     72\u001b[0m     \u001b[39mdel\u001b[39;00m filtered_tb\n",
      "File \u001b[1;32mc:\\Users\\Benny\\miniconda3\\envs\\iannwtf\\lib\\site-packages\\tensorflow\\python\\training\\saving\\saveable_object_util.py:135\u001b[0m, in \u001b[0;36mResourceVariableSaveable.restore\u001b[1;34m(self, restored_tensors, restored_shapes)\u001b[0m\n\u001b[0;32m    132\u001b[0m   assigned_variable \u001b[39m=\u001b[39m resource_variable_ops\u001b[39m.\u001b[39mshape_safe_assign_variable_handle(\n\u001b[0;32m    133\u001b[0m       \u001b[39mself\u001b[39m\u001b[39m.\u001b[39mhandle_op, \u001b[39mself\u001b[39m\u001b[39m.\u001b[39m_var_shape, restored_tensor)\n\u001b[0;32m    134\u001b[0m \u001b[39mexcept\u001b[39;00m \u001b[39mValueError\u001b[39;00m \u001b[39mas\u001b[39;00m e:\n\u001b[1;32m--> 135\u001b[0m   \u001b[39mraise\u001b[39;00m \u001b[39mValueError\u001b[39;00m(\n\u001b[0;32m    136\u001b[0m       \u001b[39mf\u001b[39m\u001b[39m\"\u001b[39m\u001b[39mReceived incompatible tensor with shape \u001b[39m\u001b[39m{\u001b[39;00mrestored_tensor\u001b[39m.\u001b[39mshape\u001b[39m}\u001b[39;00m\u001b[39m \u001b[39m\u001b[39m\"\u001b[39m\n\u001b[0;32m    137\u001b[0m       \u001b[39mf\u001b[39m\u001b[39m\"\u001b[39m\u001b[39mwhen attempting to restore variable with shape \u001b[39m\u001b[39m{\u001b[39;00m\u001b[39mself\u001b[39m\u001b[39m.\u001b[39m_var_shape\u001b[39m}\u001b[39;00m\u001b[39m \u001b[39m\u001b[39m\"\u001b[39m\n\u001b[0;32m    138\u001b[0m       \u001b[39mf\u001b[39m\u001b[39m\"\u001b[39m\u001b[39mand name \u001b[39m\u001b[39m{\u001b[39;00m\u001b[39mself\u001b[39m\u001b[39m.\u001b[39mname\u001b[39m}\u001b[39;00m\u001b[39m.\u001b[39m\u001b[39m\"\u001b[39m) \u001b[39mfrom\u001b[39;00m \u001b[39me\u001b[39;00m\n\u001b[0;32m    139\u001b[0m \u001b[39mreturn\u001b[39;00m assigned_variable\n",
      "\u001b[1;31mValueError\u001b[0m: Received incompatible tensor with shape (784, 256) when attempting to restore variable with shape (1, 256) and name layer1/kernel/.ATTRIBUTES/VARIABLE_VALUE."
     ]
    }
   ],
   "source": [
    "# save the model with a meaningful name\n",
    "model.save_weights(f\"saved_model_{config_name}\", save_format=\"tf\")\n",
    "\n",
    "# load the model:\n",
    "# instantiate a new model from our CNN class\n",
    "loaded_model = FFN()\n",
    "\n",
    "# build the model\n",
    "inp= tf.keras.Input((28,28,1))\n",
    "loaded_model(inp)\n",
    "\n",
    "# load the model weights to continue training. \n",
    "loaded_model.load_weights(f\"saved_model_{config_name}\");\n",
    "\n",
    "# continue training (but: optimizer state is lost)\n",
    "\n",
    "# run the training loop \n",
    "training_loop(model=loaded_model, \n",
    "                train_ds=train_ds, \n",
    "                val_ds=val_ds, \n",
    "                epochs=10, \n",
    "                train_summary_writer=train_summary_writer, \n",
    "                val_summary_writer=val_summary_writer)"
   ]
  }
 ],
 "metadata": {
  "kernelspec": {
   "display_name": "Python 3.10.6 ('iannwtf')",
   "language": "python",
   "name": "python3"
  },
  "language_info": {
   "codemirror_mode": {
    "name": "ipython",
    "version": 3
   },
   "file_extension": ".py",
   "mimetype": "text/x-python",
   "name": "python",
   "nbconvert_exporter": "python",
   "pygments_lexer": "ipython3",
   "version": "3.10.6"
  },
  "orig_nbformat": 4,
  "vscode": {
   "interpreter": {
    "hash": "63f83f16703f6be7ffd0b8723f3797201bb87b90d9af5c25669f8b533ad7062b"
   }
  }
 },
 "nbformat": 4,
 "nbformat_minor": 2
}
