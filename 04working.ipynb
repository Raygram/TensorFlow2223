{
 "cells": [
  {
   "cell_type": "code",
   "execution_count": 16,
   "metadata": {},
   "outputs": [
    {
     "name": "stdout",
     "output_type": "stream",
     "text": [
      "The tensorboard extension is already loaded. To reload it, use:\n",
      "  %reload_ext tensorboard\n"
     ]
    }
   ],
   "source": [
    "import tensorflow as tf\n",
    "import tensorflow_datasets as tfds\n",
    "import matplotlib.pyplot as plt\n",
    "import datetime\n",
    "\n",
    "# in a notebook, load the tensorboard extension, not needed for scripts\n",
    "%load_ext tensorboard"
   ]
  },
  {
   "cell_type": "code",
   "execution_count": 17,
   "metadata": {},
   "outputs": [],
   "source": [
    "(train_ds, test_ds), ds_info = tfds.load(\n",
    "    'mnist',\n",
    "    split=['train', 'test'],\n",
    "    shuffle_files=True,\n",
    "    as_supervised=True,\n",
    "    with_info=True,\n",
    ")\n",
    "\n",
    "def preprocess_a(data, batch_size):\n",
    "    # image should be float\n",
    "    data = data.map(lambda x, t: (tf.cast(x, float), t))\n",
    "    # image should be flattened\n",
    "    data = data.map(lambda x, t: (tf.reshape(x, (-1,)), t))\n",
    "    # image vector will here have values between -1 and 1\n",
    "    data = data.map(lambda x,t: ((x/128.)-1., t))\n",
    "    # we want to have two mnist images in each example\n",
    "    # this leads to a single example being ((x1,y1),(x2,y2))\n",
    "    zipped_ds = tf.data.Dataset.zip((data.shuffle(2000), \n",
    "                                     data.shuffle(2000)))\n",
    "    # map ((x1,y1),(x2,y2)) to (x1,x2, y1==y2*) *x1[1] + x2[1] >= 5\n",
    "    zipped_ds = zipped_ds.map(lambda x1, x2: (x1[0], x2[0], x1[1] + x2[1] >= 5))\n",
    "    # transform boolean target to int\n",
    "    zipped_ds = zipped_ds.map(lambda x1, x2, t: (x1,x2, tf.cast(t, tf.int32)))\n",
    "    # batch the dataset\n",
    "    zipped_ds = zipped_ds.batch(batch_size)\n",
    "    # prefetch\n",
    "    zipped_ds = zipped_ds.prefetch(tf.data.AUTOTUNE)\n",
    "    return zipped_ds\n",
    "\n",
    "def preprocess_b(data, batch_size):\n",
    "    # image should be float\n",
    "    data = data.map(lambda x, t: (tf.cast(x, float), t))\n",
    "    # image should be flattened\n",
    "    data = data.map(lambda x, t: (tf.reshape(x, (-1,)), t))\n",
    "    # image vector will here have values between -1 and 1\n",
    "    data = data.map(lambda x,t: ((x/128.)-1., t))\n",
    "    # we want to have two mnist images in each example\n",
    "    # this leads to a single example being ((x1,y1),(x2,y2))\n",
    "    zipped_ds = tf.data.Dataset.zip((data.shuffle(2000), \n",
    "                                     data.shuffle(2000)))\n",
    "    # map ((x1,y1),(x2,y2)) to (x1,x2, y1==y2*) *x1[1] + x2[1] >= 5\n",
    "    zipped_ds = zipped_ds.map(lambda x1, x2: (x1[0], x2[0], x1[1] - x2[1]))\n",
    "    # transform \n",
    "    zipped_ds = zipped_ds.map(lambda x1, x2, t: (x1,x2, tf.cast(t, tf.int32)))\n",
    "    # target vector should be one-hot encoded\n",
    "    zipped_ds = zipped_ds.map(lambda x1, x2, t: (x1,x2, tf.one_hot(t, 19,dtype=tf.int32)))\n",
    "    # batch the dataset\n",
    "    zipped_ds = zipped_ds.batch(batch_size)\n",
    "    # prefetch\n",
    "    zipped_ds = zipped_ds.prefetch(tf.data.AUTOTUNE)\n",
    "    return zipped_ds"
   ]
  },
  {
   "cell_type": "code",
   "execution_count": 18,
   "metadata": {},
   "outputs": [],
   "source": [
    "class FFN_a(tf.keras.Model):\n",
    "    def __init__(self):\n",
    "        super().__init__()\n",
    "    \n",
    "        self.metrics_list = [tf.keras.metrics.Mean(name=\"loss\"),\n",
    "            tf.keras.metrics.BinaryAccuracy()]\n",
    "        \n",
    "        self.optimizer = tf.keras.optimizers.Adam()\n",
    "        \n",
    "        self.loss_function = tf.keras.losses.BinaryCrossentropy()\n",
    "        \n",
    "        # layers to be used\n",
    "        self.dense1 = tf.keras.layers.Dense(256, activation=tf.nn.relu)\n",
    "        self.dense2 = tf.keras.layers.Dense(256, activation=tf.nn.relu)\n",
    "        self.dense3 = tf.keras.layers.Dense(256, activation=tf.nn.relu)\n",
    "        self.dense4 = tf.keras.layers.Dense(256, activation=tf.nn.relu)\n",
    "        self.out_layer = tf.keras.layers.Dense(1,activation=tf.nn.sigmoid) \n",
    "        \n",
    "    @tf.function\n",
    "    def call(self, images, training=False):\n",
    "        img1, img2 = images\n",
    "        \n",
    "        img1_x = self.dense1(img1)\n",
    "        img1_x = self.dense2(img1_x)\n",
    "        img1_x = self.dense3(img1_x)\n",
    "        img1_x = self.dense4(img1_x)\n",
    "        \n",
    "        img2_x = self.dense1(img2)\n",
    "        img2_x = self.dense2(img2_x)\n",
    "        img2_x = self.dense3(img2_x)\n",
    "        img2_x = self.dense4(img2_x)\n",
    "        \n",
    "        combined_x = tf.concat([img1_x, img2_x], axis=1)\n",
    "        \n",
    "        return self.out_layer(combined_x)\n",
    "    \n",
    "\n",
    "    # 4. reset all metrics objects\n",
    "    def reset_metrics(self):\n",
    "        for metric in self.metrics:\n",
    "            metric.reset_states()\n",
    "\n",
    "    # 5. train step method\n",
    "    @tf.function\n",
    "    def train_step(self, data):\n",
    "        img1, img2, target = data\n",
    "        \n",
    "        with tf.GradientTape() as tape:\n",
    "            output = self((img1, img2), training=True)\n",
    "            loss = self.loss_function(target, output)\n",
    "            \n",
    "        gradients = tape.gradient(loss, self.trainable_variables)\n",
    "        self.optimizer.apply_gradients(zip(gradients, self.trainable_variables))\n",
    "\n",
    "        # update loss metric\n",
    "        self.metrics[0].update_state(loss)\n",
    "        \n",
    "        # for all metrics except loss, update states (accuracy etc.)\n",
    "        for metric in self.metrics[1:]:\n",
    "            metric.update_state(target, output)\n",
    "\n",
    "        # Return a dictionary mapping metric names to current value\n",
    "        return {m.name: m.result() for m in self.metrics}\n",
    "    \n",
    "    @tf.function\n",
    "    def test_step(self, data):\n",
    "        img1, img2, target = data\n",
    "\n",
    "        output = self((img1, img2), training=False)\n",
    "        loss = self.loss_function(target, output)\n",
    "\n",
    "        self.metrics[0].update_state(loss)\n",
    "        # for accuracy metrics:\n",
    "        for metric in self.metrics[1:]:\n",
    "            metric.update_state(target, output)\n",
    "\n",
    "        return {m.name: m.result() for m in self.metrics}\n",
    "\n",
    "class FFN_b(tf.keras.Model):\n",
    "    def __init__(self):\n",
    "        super().__init__()\n",
    "    \n",
    "        self.metrics_list = [tf.keras.metrics.Mean(name=\"loss\"),\n",
    "            tf.keras.metrics.CategoricalAccuracy()]\n",
    "        \n",
    "        self.optimizer = tf.keras.optimizers.Adam()\n",
    "        \n",
    "        self.loss_function = tf.keras.losses.CategoricalCrossentropy()\n",
    "        \n",
    "        # layers to be used\n",
    "        self.dense1 = tf.keras.layers.Dense(256, activation=tf.nn.relu)\n",
    "        self.dense2 = tf.keras.layers.Dense(256, activation=tf.nn.relu)\n",
    "        self.dense3 = tf.keras.layers.Dense(256, activation=tf.nn.relu)\n",
    "        self.dense4 = tf.keras.layers.Dense(256, activation=tf.nn.relu)\n",
    "        self.out_layer = tf.keras.layers.Dense(19,activation=tf.nn.softmax) \n",
    "        \n",
    "    @tf.function\n",
    "    def call(self, images, training=False):\n",
    "        img1, img2 = images\n",
    "        \n",
    "        img1_x = self.dense1(img1)\n",
    "        img1_x = self.dense2(img1_x)\n",
    "        img1_x = self.dense3(img1_x)\n",
    "        img1_x = self.dense4(img1_x)\n",
    "        \n",
    "        img2_x = self.dense1(img2)\n",
    "        img2_x = self.dense2(img2_x)\n",
    "        img2_x = self.dense3(img2_x)\n",
    "        img2_x = self.dense4(img2_x)\n",
    "        \n",
    "        combined_x = tf.concat([img1_x, img2_x], axis=1)\n",
    "        \n",
    "        return self.out_layer(combined_x)\n",
    "    \n",
    "\n",
    "    # 4. reset all metrics objects\n",
    "    def reset_metrics(self):\n",
    "        for metric in self.metrics:\n",
    "            metric.reset_states()\n",
    "\n",
    "    # 5. train step method\n",
    "    @tf.function\n",
    "    def train_step(self, data):\n",
    "        img1, img2, target = data\n",
    "        \n",
    "        with tf.GradientTape() as tape:\n",
    "            output = self((img1, img2), training=True)\n",
    "            loss = self.loss_function(target, output)\n",
    "            \n",
    "        gradients = tape.gradient(loss, self.trainable_variables)\n",
    "        self.optimizer.apply_gradients(zip(gradients, self.trainable_variables))\n",
    "\n",
    "        # update loss metric\n",
    "        self.metrics[0].update_state(loss)\n",
    "        \n",
    "        # for all metrics except loss, update states (accuracy etc.)\n",
    "        for metric in self.metrics[1:]:\n",
    "            metric.update_state(target, output)\n",
    "\n",
    "        # Return a dictionary mapping metric names to current value\n",
    "        return {m.name: m.result() for m in self.metrics}\n",
    "    \n",
    "    @tf.function\n",
    "    def test_step(self, data):\n",
    "        img1, img2, target = data\n",
    "\n",
    "        output = self((img1, img2), training=False)\n",
    "        loss = self.loss_function(target, output)\n",
    "\n",
    "        self.metrics[0].update_state(loss)\n",
    "        # for accuracy metrics:\n",
    "        for metric in self.metrics[1:]:\n",
    "            metric.update_state(target, output)\n",
    "\n",
    "        return {m.name: m.result() for m in self.metrics}\n",
    "\n",
    "\n"
   ]
  },
  {
   "cell_type": "code",
   "execution_count": 19,
   "metadata": {},
   "outputs": [],
   "source": [
    "# Define where to save the log\n",
    "config_name= \"config_name\"\n",
    "current_time = datetime.datetime.now().strftime(\"%Y%m%d-%H%M%S\")\n",
    "\n",
    "train_log_path = f\"logs/{config_name}/{current_time}/train\"\n",
    "val_log_path = f\"logs/{config_name}/{current_time}/val\"\n",
    "\n",
    "# log writer for training metrics\n",
    "train_summary_writer = tf.summary.create_file_writer(train_log_path)\n",
    "\n",
    "# log writer for validation metrics\n",
    "val_summary_writer = tf.summary.create_file_writer(val_log_path)"
   ]
  },
  {
   "cell_type": "code",
   "execution_count": 20,
   "metadata": {},
   "outputs": [],
   "source": [
    "import pprint\n",
    "import tqdm\n",
    "\n",
    "def training_loop(model, train_ds, val_ds, epochs, train_summary_writer, val_summary_writer):\n",
    "    for epoch in range(epochs):\n",
    "        print(f\"Epoch {epoch}:\")\n",
    "        \n",
    "        # Training:\n",
    "        \n",
    "        for data in tqdm.tqdm(train_ds, position=0, leave=True):\n",
    "            metrics = model.train_step(data)\n",
    "            \n",
    "            # logging the validation metrics to the log file which is used by tensorboard\n",
    "            with train_summary_writer.as_default():\n",
    "                for metric in model.metrics:\n",
    "                    tf.summary.scalar(f\"{metric.name}\", metric.result(), step=epoch)\n",
    "\n",
    "        # print the metrics\n",
    "        print([f\"{key}: {value.numpy()}\" for (key, value) in metrics.items()])\n",
    "\n",
    "        # reset all metrics (requires a reset_metrics method in the model)\n",
    "        model.reset_metrics()    \n",
    "        \n",
    "        # Validation:\n",
    "        for data in val_ds:\n",
    "            metrics = model.test_step(data)\n",
    "        \n",
    "            # logging the validation metrics to the log file which is used by tensorboard\n",
    "            with val_summary_writer.as_default():\n",
    "                for metric in model.metrics:\n",
    "                    tf.summary.scalar(f\"{metric.name}\", metric.result(), step=epoch)\n",
    "                    \n",
    "        print([f\"val_{key}: {value.numpy()}\" for (key, value) in metrics.items()])\n",
    "\n",
    "        # reset all metrics\n",
    "        model.reset_metrics()\n",
    "        print(\"\\n\")"
   ]
  },
  {
   "cell_type": "code",
   "execution_count": 21,
   "metadata": {},
   "outputs": [
    {
     "data": {
      "text/plain": [
       "Reusing TensorBoard on port 6006 (pid 14280), started 0:18:59 ago. (Use '!kill 14280' to kill it.)"
      ]
     },
     "metadata": {},
     "output_type": "display_data"
    },
    {
     "data": {
      "text/html": [
       "\n",
       "      <iframe id=\"tensorboard-frame-4a71a998b03f2c78\" width=\"100%\" height=\"800\" frameborder=\"0\">\n",
       "      </iframe>\n",
       "      <script>\n",
       "        (function() {\n",
       "          const frame = document.getElementById(\"tensorboard-frame-4a71a998b03f2c78\");\n",
       "          const url = new URL(\"http://localhost\");\n",
       "          const port = 6006;\n",
       "          if (port) {\n",
       "            url.port = port;\n",
       "          }\n",
       "          frame.src = url;\n",
       "        })();\n",
       "      </script>\n",
       "    "
      ],
      "text/plain": [
       "<IPython.core.display.HTML object>"
      ]
     },
     "metadata": {},
     "output_type": "display_data"
    }
   ],
   "source": [
    "%tensorboard --logdir logs/"
   ]
  },
  {
   "cell_type": "code",
   "execution_count": 22,
   "metadata": {},
   "outputs": [
    {
     "name": "stdout",
     "output_type": "stream",
     "text": [
      "Epoch 0:\n"
     ]
    },
    {
     "name": "stderr",
     "output_type": "stream",
     "text": [
      "100%|██████████| 469/469 [00:16<00:00, 29.02it/s]\n"
     ]
    },
    {
     "name": "stdout",
     "output_type": "stream",
     "text": [
      "['loss: 0.17491310834884644', 'binary_accuracy: 0.9316333532333374']\n",
      "['val_loss: 0.11665040999650955', 'val_binary_accuracy: 0.9563000202178955']\n",
      "\n",
      "\n",
      "Epoch 1:\n"
     ]
    },
    {
     "name": "stderr",
     "output_type": "stream",
     "text": [
      "100%|██████████| 469/469 [00:07<00:00, 60.90it/s]\n"
     ]
    },
    {
     "name": "stdout",
     "output_type": "stream",
     "text": [
      "['loss: 0.11441566795110703', 'binary_accuracy: 0.9610166549682617']\n",
      "['val_loss: 0.14304858446121216', 'val_binary_accuracy: 0.9470999836921692']\n",
      "\n",
      "\n",
      "Epoch 2:\n"
     ]
    },
    {
     "name": "stderr",
     "output_type": "stream",
     "text": [
      "100%|██████████| 469/469 [00:08<00:00, 55.76it/s]\n"
     ]
    },
    {
     "name": "stdout",
     "output_type": "stream",
     "text": [
      "['loss: 0.10175597667694092', 'binary_accuracy: 0.9678333401679993']\n",
      "['val_loss: 0.10418187826871872', 'val_binary_accuracy: 0.967199981212616']\n",
      "\n",
      "\n",
      "Epoch 3:\n"
     ]
    },
    {
     "name": "stderr",
     "output_type": "stream",
     "text": [
      "100%|██████████| 469/469 [00:08<00:00, 56.45it/s]\n"
     ]
    },
    {
     "name": "stdout",
     "output_type": "stream",
     "text": [
      "['loss: 0.09009988605976105', 'binary_accuracy: 0.9729499816894531']\n",
      "['val_loss: 0.09727044403553009', 'val_binary_accuracy: 0.9732999801635742']\n",
      "\n",
      "\n",
      "Epoch 4:\n"
     ]
    },
    {
     "name": "stderr",
     "output_type": "stream",
     "text": [
      "100%|██████████| 469/469 [00:08<00:00, 57.65it/s]\n"
     ]
    },
    {
     "name": "stdout",
     "output_type": "stream",
     "text": [
      "['loss: 0.0868103876709938', 'binary_accuracy: 0.9739500284194946']\n",
      "['val_loss: 0.08250336349010468', 'val_binary_accuracy: 0.9776999950408936']\n",
      "\n",
      "\n",
      "Epoch 5:\n"
     ]
    },
    {
     "name": "stderr",
     "output_type": "stream",
     "text": [
      "100%|██████████| 469/469 [00:08<00:00, 58.34it/s]\n"
     ]
    },
    {
     "name": "stdout",
     "output_type": "stream",
     "text": [
      "['loss: 0.08081135898828506', 'binary_accuracy: 0.977566659450531']\n",
      "['val_loss: 0.09221483021974564', 'val_binary_accuracy: 0.9731000065803528']\n",
      "\n",
      "\n",
      "Epoch 6:\n"
     ]
    },
    {
     "name": "stderr",
     "output_type": "stream",
     "text": [
      "100%|██████████| 469/469 [00:07<00:00, 64.16it/s]\n"
     ]
    },
    {
     "name": "stdout",
     "output_type": "stream",
     "text": [
      "['loss: 0.07566343247890472', 'binary_accuracy: 0.979616641998291']\n",
      "['val_loss: 0.0941583514213562', 'val_binary_accuracy: 0.9794999957084656']\n",
      "\n",
      "\n",
      "Epoch 7:\n"
     ]
    },
    {
     "name": "stderr",
     "output_type": "stream",
     "text": [
      "100%|██████████| 469/469 [00:07<00:00, 63.04it/s]\n"
     ]
    },
    {
     "name": "stdout",
     "output_type": "stream",
     "text": [
      "['loss: 0.07692611217498779', 'binary_accuracy: 0.9791499972343445']\n",
      "['val_loss: 0.07826294749975204', 'val_binary_accuracy: 0.9830999970436096']\n",
      "\n",
      "\n",
      "Epoch 8:\n"
     ]
    },
    {
     "name": "stderr",
     "output_type": "stream",
     "text": [
      "100%|██████████| 469/469 [00:07<00:00, 64.03it/s]\n"
     ]
    },
    {
     "name": "stdout",
     "output_type": "stream",
     "text": [
      "['loss: 0.07417198270559311', 'binary_accuracy: 0.981166660785675']\n",
      "['val_loss: 0.08278632909059525', 'val_binary_accuracy: 0.9794999957084656']\n",
      "\n",
      "\n",
      "Epoch 9:\n"
     ]
    },
    {
     "name": "stderr",
     "output_type": "stream",
     "text": [
      "100%|██████████| 469/469 [00:07<00:00, 62.82it/s]\n"
     ]
    },
    {
     "name": "stdout",
     "output_type": "stream",
     "text": [
      "['loss: 0.06773336231708527', 'binary_accuracy: 0.9828333258628845']\n",
      "['val_loss: 0.07260540127754211', 'val_binary_accuracy: 0.9861000180244446']\n",
      "\n",
      "\n",
      "Epoch 10:\n"
     ]
    },
    {
     "name": "stderr",
     "output_type": "stream",
     "text": [
      "100%|██████████| 469/469 [00:07<00:00, 63.30it/s]\n"
     ]
    },
    {
     "name": "stdout",
     "output_type": "stream",
     "text": [
      "['loss: 0.06837023049592972', 'binary_accuracy: 0.9832500219345093']\n",
      "['val_loss: 0.06531968712806702', 'val_binary_accuracy: 0.9854999780654907']\n",
      "\n",
      "\n",
      "Epoch 11:\n"
     ]
    },
    {
     "name": "stderr",
     "output_type": "stream",
     "text": [
      "100%|██████████| 469/469 [00:07<00:00, 63.48it/s]\n"
     ]
    },
    {
     "name": "stdout",
     "output_type": "stream",
     "text": [
      "['loss: 0.06862349063158035', 'binary_accuracy: 0.982866644859314']\n",
      "['val_loss: 0.08112238347530365', 'val_binary_accuracy: 0.9803000092506409']\n",
      "\n",
      "\n",
      "Epoch 12:\n"
     ]
    },
    {
     "name": "stderr",
     "output_type": "stream",
     "text": [
      "100%|██████████| 469/469 [00:07<00:00, 63.18it/s]\n"
     ]
    },
    {
     "name": "stdout",
     "output_type": "stream",
     "text": [
      "['loss: 0.06395477801561356', 'binary_accuracy: 0.9846166372299194']\n",
      "['val_loss: 0.08318261802196503', 'val_binary_accuracy: 0.9825999736785889']\n",
      "\n",
      "\n",
      "Epoch 13:\n"
     ]
    },
    {
     "name": "stderr",
     "output_type": "stream",
     "text": [
      "100%|██████████| 469/469 [00:07<00:00, 63.12it/s]\n"
     ]
    },
    {
     "name": "stdout",
     "output_type": "stream",
     "text": [
      "['loss: 0.06082897260785103', 'binary_accuracy: 0.9849333167076111']\n",
      "['val_loss: 0.0802888497710228', 'val_binary_accuracy: 0.9829000234603882']\n",
      "\n",
      "\n",
      "Epoch 14:\n"
     ]
    },
    {
     "name": "stderr",
     "output_type": "stream",
     "text": [
      "100%|██████████| 469/469 [00:07<00:00, 62.16it/s]\n"
     ]
    },
    {
     "name": "stdout",
     "output_type": "stream",
     "text": [
      "['loss: 0.060383912175893784', 'binary_accuracy: 0.9856666922569275']\n",
      "['val_loss: 0.07046160846948624', 'val_binary_accuracy: 0.9833999872207642']\n",
      "\n",
      "\n",
      "Epoch 15:\n"
     ]
    },
    {
     "name": "stderr",
     "output_type": "stream",
     "text": [
      "100%|██████████| 469/469 [00:07<00:00, 60.33it/s]\n"
     ]
    },
    {
     "name": "stdout",
     "output_type": "stream",
     "text": [
      "['loss: 0.057066868990659714', 'binary_accuracy: 0.9868166446685791']\n",
      "['val_loss: 0.07595927268266678', 'val_binary_accuracy: 0.9839000105857849']\n",
      "\n",
      "\n",
      "Epoch 16:\n"
     ]
    },
    {
     "name": "stderr",
     "output_type": "stream",
     "text": [
      "100%|██████████| 469/469 [00:08<00:00, 57.99it/s]\n"
     ]
    },
    {
     "name": "stdout",
     "output_type": "stream",
     "text": [
      "['loss: 0.054934095591306686', 'binary_accuracy: 0.9878833293914795']\n",
      "['val_loss: 0.09176138043403625', 'val_binary_accuracy: 0.9817000031471252']\n",
      "\n",
      "\n",
      "Epoch 17:\n"
     ]
    },
    {
     "name": "stderr",
     "output_type": "stream",
     "text": [
      "100%|██████████| 469/469 [00:08<00:00, 55.44it/s]\n"
     ]
    },
    {
     "name": "stdout",
     "output_type": "stream",
     "text": [
      "['loss: 0.054245058447122574', 'binary_accuracy: 0.9873499870300293']\n",
      "['val_loss: 0.07279784977436066', 'val_binary_accuracy: 0.9861000180244446']\n",
      "\n",
      "\n",
      "Epoch 18:\n"
     ]
    },
    {
     "name": "stderr",
     "output_type": "stream",
     "text": [
      "100%|██████████| 469/469 [00:07<00:00, 62.37it/s]\n"
     ]
    },
    {
     "name": "stdout",
     "output_type": "stream",
     "text": [
      "['loss: 0.05672922357916832', 'binary_accuracy: 0.9873166680335999']\n",
      "['val_loss: 0.07394646108150482', 'val_binary_accuracy: 0.9864000082015991']\n",
      "\n",
      "\n",
      "Epoch 19:\n"
     ]
    },
    {
     "name": "stderr",
     "output_type": "stream",
     "text": [
      "100%|██████████| 469/469 [00:07<00:00, 61.75it/s]\n"
     ]
    },
    {
     "name": "stdout",
     "output_type": "stream",
     "text": [
      "['loss: 0.05694127455353737', 'binary_accuracy: 0.9870166778564453']\n",
      "['val_loss: 0.08028137683868408', 'val_binary_accuracy: 0.9832000136375427']\n",
      "\n",
      "\n",
      "Epoch 20:\n"
     ]
    },
    {
     "name": "stderr",
     "output_type": "stream",
     "text": [
      "100%|██████████| 469/469 [00:07<00:00, 66.34it/s]\n"
     ]
    },
    {
     "name": "stdout",
     "output_type": "stream",
     "text": [
      "['loss: 0.04913369193673134', 'binary_accuracy: 0.9888833165168762']\n",
      "['val_loss: 0.07302337884902954', 'val_binary_accuracy: 0.984499990940094']\n",
      "\n",
      "\n",
      "Epoch 21:\n"
     ]
    },
    {
     "name": "stderr",
     "output_type": "stream",
     "text": [
      "100%|██████████| 469/469 [00:07<00:00, 65.37it/s]\n"
     ]
    },
    {
     "name": "stdout",
     "output_type": "stream",
     "text": [
      "['loss: 0.05190245062112808', 'binary_accuracy: 0.9887333512306213']\n",
      "['val_loss: 0.06679932028055191', 'val_binary_accuracy: 0.988099992275238']\n",
      "\n",
      "\n",
      "Epoch 22:\n"
     ]
    },
    {
     "name": "stderr",
     "output_type": "stream",
     "text": [
      "100%|██████████| 469/469 [00:07<00:00, 63.36it/s]\n"
     ]
    },
    {
     "name": "stdout",
     "output_type": "stream",
     "text": [
      "['loss: 0.045322250574827194', 'binary_accuracy: 0.9900333285331726']\n",
      "['val_loss: 0.07943980395793915', 'val_binary_accuracy: 0.9860000014305115']\n",
      "\n",
      "\n",
      "Epoch 23:\n"
     ]
    },
    {
     "name": "stderr",
     "output_type": "stream",
     "text": [
      "100%|██████████| 469/469 [00:07<00:00, 60.67it/s]\n"
     ]
    },
    {
     "name": "stdout",
     "output_type": "stream",
     "text": [
      "['loss: 0.049248989671468735', 'binary_accuracy: 0.9891833066940308']\n",
      "['val_loss: 0.07792556285858154', 'val_binary_accuracy: 0.9851999878883362']\n",
      "\n",
      "\n",
      "Epoch 24:\n"
     ]
    },
    {
     "name": "stderr",
     "output_type": "stream",
     "text": [
      "100%|██████████| 469/469 [00:07<00:00, 64.38it/s]\n"
     ]
    },
    {
     "name": "stdout",
     "output_type": "stream",
     "text": [
      "['loss: 0.046410977840423584', 'binary_accuracy: 0.990066647529602']\n",
      "['val_loss: 0.08212891966104507', 'val_binary_accuracy: 0.9843000173568726']\n",
      "\n",
      "\n",
      "Epoch 25:\n"
     ]
    },
    {
     "name": "stderr",
     "output_type": "stream",
     "text": [
      "100%|██████████| 469/469 [00:07<00:00, 58.64it/s]\n"
     ]
    },
    {
     "name": "stdout",
     "output_type": "stream",
     "text": [
      "['loss: 0.04981794208288193', 'binary_accuracy: 0.989466667175293']\n",
      "['val_loss: 0.08061306923627853', 'val_binary_accuracy: 0.9855999946594238']\n",
      "\n",
      "\n",
      "Epoch 26:\n"
     ]
    },
    {
     "name": "stderr",
     "output_type": "stream",
     "text": [
      "100%|██████████| 469/469 [00:08<00:00, 55.61it/s]\n"
     ]
    },
    {
     "name": "stdout",
     "output_type": "stream",
     "text": [
      "['loss: 0.043839626014232635', 'binary_accuracy: 0.9906833171844482']\n",
      "['val_loss: 0.0853433758020401', 'val_binary_accuracy: 0.9837999939918518']\n",
      "\n",
      "\n",
      "Epoch 27:\n"
     ]
    },
    {
     "name": "stderr",
     "output_type": "stream",
     "text": [
      "100%|██████████| 469/469 [00:07<00:00, 63.20it/s]\n"
     ]
    },
    {
     "name": "stdout",
     "output_type": "stream",
     "text": [
      "['loss: 0.04361574351787567', 'binary_accuracy: 0.9905999898910522']\n",
      "['val_loss: 0.060805391520261765', 'val_binary_accuracy: 0.9894000291824341']\n",
      "\n",
      "\n",
      "Epoch 28:\n"
     ]
    },
    {
     "name": "stderr",
     "output_type": "stream",
     "text": [
      "100%|██████████| 469/469 [00:07<00:00, 62.33it/s]\n"
     ]
    },
    {
     "name": "stdout",
     "output_type": "stream",
     "text": [
      "['loss: 0.043811503797769547', 'binary_accuracy: 0.9903833270072937']\n",
      "['val_loss: 0.078351229429245', 'val_binary_accuracy: 0.987500011920929']\n",
      "\n",
      "\n",
      "Epoch 29:\n"
     ]
    },
    {
     "name": "stderr",
     "output_type": "stream",
     "text": [
      "100%|██████████| 469/469 [00:07<00:00, 63.43it/s]\n"
     ]
    },
    {
     "name": "stdout",
     "output_type": "stream",
     "text": [
      "['loss: 0.04351282864809036', 'binary_accuracy: 0.9908999800682068']\n",
      "['val_loss: 0.0677269920706749', 'val_binary_accuracy: 0.9868999719619751']\n",
      "\n",
      "\n"
     ]
    }
   ],
   "source": [
    "model_a = FFN_a()\n",
    "\n",
    "training_loop(model=model_a, \n",
    "                train_ds=preprocess_a(train_ds,batch_size = 128), \n",
    "                val_ds=preprocess_a(test_ds,batch_size = 128), \n",
    "                epochs=30, \n",
    "                train_summary_writer=train_summary_writer, \n",
    "                val_summary_writer=val_summary_writer)\n",
    "\n"
   ]
  },
  {
   "cell_type": "code",
   "execution_count": 23,
   "metadata": {},
   "outputs": [
    {
     "name": "stdout",
     "output_type": "stream",
     "text": [
      "Epoch 0:\n"
     ]
    },
    {
     "name": "stderr",
     "output_type": "stream",
     "text": [
      "100%|██████████| 469/469 [00:09<00:00, 50.83it/s]\n"
     ]
    },
    {
     "name": "stdout",
     "output_type": "stream",
     "text": [
      "['loss: 0.9278172254562378', 'categorical_accuracy: 0.5480666756629944']\n",
      "['val_loss: 0.7937809228897095', 'val_categorical_accuracy: 0.6157000064849854']\n",
      "\n",
      "\n",
      "Epoch 1:\n"
     ]
    },
    {
     "name": "stderr",
     "output_type": "stream",
     "text": [
      "100%|██████████| 469/469 [00:07<00:00, 59.43it/s]\n"
     ]
    },
    {
     "name": "stdout",
     "output_type": "stream",
     "text": [
      "['loss: 0.7282296419143677', 'categorical_accuracy: 0.6915000081062317']\n",
      "['val_loss: 0.6740075945854187', 'val_categorical_accuracy: 0.7199000120162964']\n",
      "\n",
      "\n",
      "Epoch 2:\n"
     ]
    },
    {
     "name": "stderr",
     "output_type": "stream",
     "text": [
      "100%|██████████| 469/469 [00:09<00:00, 51.16it/s]\n"
     ]
    },
    {
     "name": "stdout",
     "output_type": "stream",
     "text": [
      "['loss: 0.6588252782821655', 'categorical_accuracy: 0.7490666508674622']\n",
      "['val_loss: 0.6654771566390991', 'val_categorical_accuracy: 0.766700029373169']\n",
      "\n",
      "\n",
      "Epoch 3:\n"
     ]
    },
    {
     "name": "stderr",
     "output_type": "stream",
     "text": [
      "100%|██████████| 469/469 [00:09<00:00, 51.87it/s]\n"
     ]
    },
    {
     "name": "stdout",
     "output_type": "stream",
     "text": [
      "['loss: 0.6141828894615173', 'categorical_accuracy: 0.7832333445549011']\n",
      "['val_loss: 0.6174169778823853', 'val_categorical_accuracy: 0.7817000150680542']\n",
      "\n",
      "\n",
      "Epoch 4:\n"
     ]
    },
    {
     "name": "stderr",
     "output_type": "stream",
     "text": [
      "100%|██████████| 469/469 [00:08<00:00, 54.06it/s]\n"
     ]
    },
    {
     "name": "stdout",
     "output_type": "stream",
     "text": [
      "['loss: 0.5840490460395813', 'categorical_accuracy: 0.8069833517074585']\n",
      "['val_loss: 0.5869878530502319', 'val_categorical_accuracy: 0.8069000244140625']\n",
      "\n",
      "\n",
      "Epoch 5:\n"
     ]
    },
    {
     "name": "stderr",
     "output_type": "stream",
     "text": [
      "100%|██████████| 469/469 [00:08<00:00, 56.66it/s]\n"
     ]
    },
    {
     "name": "stdout",
     "output_type": "stream",
     "text": [
      "['loss: 0.5451043248176575', 'categorical_accuracy: 0.8334000110626221']\n",
      "['val_loss: 0.5474796295166016', 'val_categorical_accuracy: 0.8406999707221985']\n",
      "\n",
      "\n",
      "Epoch 6:\n"
     ]
    },
    {
     "name": "stderr",
     "output_type": "stream",
     "text": [
      "100%|██████████| 469/469 [00:10<00:00, 44.90it/s]\n"
     ]
    },
    {
     "name": "stdout",
     "output_type": "stream",
     "text": [
      "['loss: 0.526231586933136', 'categorical_accuracy: 0.8539833426475525']\n",
      "['val_loss: 0.5931718945503235', 'val_categorical_accuracy: 0.8371999859809875']\n",
      "\n",
      "\n",
      "Epoch 7:\n"
     ]
    },
    {
     "name": "stderr",
     "output_type": "stream",
     "text": [
      "100%|██████████| 469/469 [00:09<00:00, 51.73it/s]\n"
     ]
    },
    {
     "name": "stdout",
     "output_type": "stream",
     "text": [
      "['loss: 0.5054255127906799', 'categorical_accuracy: 0.8703833222389221']\n",
      "['val_loss: 0.552649199962616', 'val_categorical_accuracy: 0.8924000263214111']\n",
      "\n",
      "\n",
      "Epoch 8:\n"
     ]
    },
    {
     "name": "stderr",
     "output_type": "stream",
     "text": [
      "100%|██████████| 469/469 [00:09<00:00, 51.60it/s]\n"
     ]
    },
    {
     "name": "stdout",
     "output_type": "stream",
     "text": [
      "['loss: 0.49674105644226074', 'categorical_accuracy: 0.8807166814804077']\n",
      "['val_loss: 0.52312833070755', 'val_categorical_accuracy: 0.8978000283241272']\n",
      "\n",
      "\n",
      "Epoch 9:\n"
     ]
    },
    {
     "name": "stderr",
     "output_type": "stream",
     "text": [
      "100%|██████████| 469/469 [00:08<00:00, 55.18it/s]\n"
     ]
    },
    {
     "name": "stdout",
     "output_type": "stream",
     "text": [
      "['loss: 0.46536052227020264', 'categorical_accuracy: 0.895466685295105']\n",
      "['val_loss: 0.4885327219963074', 'val_categorical_accuracy: 0.9071000218391418']\n",
      "\n",
      "\n",
      "Epoch 10:\n"
     ]
    },
    {
     "name": "stderr",
     "output_type": "stream",
     "text": [
      "100%|██████████| 469/469 [00:08<00:00, 57.35it/s]\n"
     ]
    },
    {
     "name": "stdout",
     "output_type": "stream",
     "text": [
      "['loss: 0.43716469407081604', 'categorical_accuracy: 0.9094333052635193']\n",
      "['val_loss: 0.48337024450302124', 'val_categorical_accuracy: 0.9121000170707703']\n",
      "\n",
      "\n",
      "Epoch 11:\n"
     ]
    },
    {
     "name": "stderr",
     "output_type": "stream",
     "text": [
      "100%|██████████| 469/469 [00:08<00:00, 54.52it/s]\n"
     ]
    },
    {
     "name": "stdout",
     "output_type": "stream",
     "text": [
      "['loss: 0.42172086238861084', 'categorical_accuracy: 0.9230333566665649']\n",
      "['val_loss: 0.516178548336029', 'val_categorical_accuracy: 0.9064000248908997']\n",
      "\n",
      "\n",
      "Epoch 12:\n"
     ]
    },
    {
     "name": "stderr",
     "output_type": "stream",
     "text": [
      "100%|██████████| 469/469 [00:08<00:00, 58.22it/s]\n"
     ]
    },
    {
     "name": "stdout",
     "output_type": "stream",
     "text": [
      "['loss: 0.4241693913936615', 'categorical_accuracy: 0.9237333536148071']\n",
      "['val_loss: 0.4401756823062897', 'val_categorical_accuracy: 0.9241999983787537']\n",
      "\n",
      "\n",
      "Epoch 13:\n"
     ]
    },
    {
     "name": "stderr",
     "output_type": "stream",
     "text": [
      "100%|██████████| 469/469 [00:08<00:00, 58.22it/s]\n"
     ]
    },
    {
     "name": "stdout",
     "output_type": "stream",
     "text": [
      "['loss: 0.4185304343700409', 'categorical_accuracy: 0.9295333623886108']\n",
      "['val_loss: 0.5249428153038025', 'val_categorical_accuracy: 0.9269000291824341']\n",
      "\n",
      "\n",
      "Epoch 14:\n"
     ]
    },
    {
     "name": "stderr",
     "output_type": "stream",
     "text": [
      "100%|██████████| 469/469 [00:08<00:00, 57.30it/s]\n"
     ]
    },
    {
     "name": "stdout",
     "output_type": "stream",
     "text": [
      "['loss: 0.39140287041664124', 'categorical_accuracy: 0.9376999735832214']\n",
      "['val_loss: 0.5644208192825317', 'val_categorical_accuracy: 0.9096999764442444']\n",
      "\n",
      "\n",
      "Epoch 15:\n"
     ]
    },
    {
     "name": "stderr",
     "output_type": "stream",
     "text": [
      "100%|██████████| 469/469 [00:08<00:00, 56.49it/s]\n"
     ]
    },
    {
     "name": "stdout",
     "output_type": "stream",
     "text": [
      "['loss: 0.3889675736427307', 'categorical_accuracy: 0.9426166415214539']\n",
      "['val_loss: 0.5601468086242676', 'val_categorical_accuracy: 0.9049000144004822']\n",
      "\n",
      "\n",
      "Epoch 16:\n"
     ]
    },
    {
     "name": "stderr",
     "output_type": "stream",
     "text": [
      "100%|██████████| 469/469 [00:08<00:00, 58.04it/s]\n"
     ]
    },
    {
     "name": "stdout",
     "output_type": "stream",
     "text": [
      "['loss: 0.38903793692588806', 'categorical_accuracy: 0.9408833384513855']\n",
      "['val_loss: 0.4768986403942108', 'val_categorical_accuracy: 0.9363999962806702']\n",
      "\n",
      "\n",
      "Epoch 17:\n"
     ]
    },
    {
     "name": "stderr",
     "output_type": "stream",
     "text": [
      "100%|██████████| 469/469 [00:08<00:00, 56.24it/s]\n"
     ]
    },
    {
     "name": "stdout",
     "output_type": "stream",
     "text": [
      "['loss: 0.3751753270626068', 'categorical_accuracy: 0.945816695690155']\n",
      "['val_loss: 0.43127256631851196', 'val_categorical_accuracy: 0.9458000063896179']\n",
      "\n",
      "\n",
      "Epoch 18:\n"
     ]
    },
    {
     "name": "stderr",
     "output_type": "stream",
     "text": [
      "100%|██████████| 469/469 [00:08<00:00, 54.63it/s]\n"
     ]
    },
    {
     "name": "stdout",
     "output_type": "stream",
     "text": [
      "['loss: 0.3679419159889221', 'categorical_accuracy: 0.9483500123023987']\n",
      "['val_loss: 0.4786263406276703', 'val_categorical_accuracy: 0.9383000135421753']\n",
      "\n",
      "\n",
      "Epoch 19:\n"
     ]
    },
    {
     "name": "stderr",
     "output_type": "stream",
     "text": [
      "100%|██████████| 469/469 [00:08<00:00, 54.87it/s]\n"
     ]
    },
    {
     "name": "stdout",
     "output_type": "stream",
     "text": [
      "['loss: 0.343809574842453', 'categorical_accuracy: 0.951200008392334']\n",
      "['val_loss: 0.44140562415122986', 'val_categorical_accuracy: 0.9435999989509583']\n",
      "\n",
      "\n",
      "Epoch 20:\n"
     ]
    },
    {
     "name": "stderr",
     "output_type": "stream",
     "text": [
      "100%|██████████| 469/469 [00:07<00:00, 60.63it/s]\n"
     ]
    },
    {
     "name": "stdout",
     "output_type": "stream",
     "text": [
      "['loss: 0.34472858905792236', 'categorical_accuracy: 0.9524000287055969']\n",
      "['val_loss: 0.39651939272880554', 'val_categorical_accuracy: 0.9469000101089478']\n",
      "\n",
      "\n",
      "Epoch 21:\n"
     ]
    },
    {
     "name": "stderr",
     "output_type": "stream",
     "text": [
      "100%|██████████| 469/469 [00:07<00:00, 59.02it/s]\n"
     ]
    },
    {
     "name": "stdout",
     "output_type": "stream",
     "text": [
      "['loss: 0.3400772213935852', 'categorical_accuracy: 0.9524499773979187']\n",
      "['val_loss: 0.4553644061088562', 'val_categorical_accuracy: 0.941100001335144']\n",
      "\n",
      "\n",
      "Epoch 22:\n"
     ]
    },
    {
     "name": "stderr",
     "output_type": "stream",
     "text": [
      "100%|██████████| 469/469 [00:08<00:00, 56.15it/s]\n"
     ]
    },
    {
     "name": "stdout",
     "output_type": "stream",
     "text": [
      "['loss: 0.3258442282676697', 'categorical_accuracy: 0.9564999938011169']\n",
      "['val_loss: 0.4551539719104767', 'val_categorical_accuracy: 0.9422000050544739']\n",
      "\n",
      "\n",
      "Epoch 23:\n"
     ]
    },
    {
     "name": "stderr",
     "output_type": "stream",
     "text": [
      "100%|██████████| 469/469 [00:08<00:00, 57.17it/s]\n"
     ]
    },
    {
     "name": "stdout",
     "output_type": "stream",
     "text": [
      "['loss: 0.34660962224006653', 'categorical_accuracy: 0.9523833394050598']\n",
      "['val_loss: 0.4525502026081085', 'val_categorical_accuracy: 0.9430000185966492']\n",
      "\n",
      "\n",
      "Epoch 24:\n"
     ]
    },
    {
     "name": "stderr",
     "output_type": "stream",
     "text": [
      "100%|██████████| 469/469 [00:08<00:00, 53.70it/s]\n"
     ]
    },
    {
     "name": "stdout",
     "output_type": "stream",
     "text": [
      "['loss: 0.33251577615737915', 'categorical_accuracy: 0.9551166892051697']\n",
      "['val_loss: 0.4575967490673065', 'val_categorical_accuracy: 0.9429000020027161']\n",
      "\n",
      "\n",
      "Epoch 25:\n"
     ]
    },
    {
     "name": "stderr",
     "output_type": "stream",
     "text": [
      "100%|██████████| 469/469 [00:08<00:00, 55.44it/s]\n"
     ]
    },
    {
     "name": "stdout",
     "output_type": "stream",
     "text": [
      "['loss: 0.31644850969314575', 'categorical_accuracy: 0.958549976348877']\n",
      "['val_loss: 0.55446457862854', 'val_categorical_accuracy: 0.9377999901771545']\n",
      "\n",
      "\n",
      "Epoch 26:\n"
     ]
    },
    {
     "name": "stderr",
     "output_type": "stream",
     "text": [
      "100%|██████████| 469/469 [00:08<00:00, 55.63it/s]\n"
     ]
    },
    {
     "name": "stdout",
     "output_type": "stream",
     "text": [
      "['loss: 0.30188849568367004', 'categorical_accuracy: 0.9594500064849854']\n",
      "['val_loss: 0.41692468523979187', 'val_categorical_accuracy: 0.9463000297546387']\n",
      "\n",
      "\n",
      "Epoch 27:\n"
     ]
    },
    {
     "name": "stderr",
     "output_type": "stream",
     "text": [
      "100%|██████████| 469/469 [00:07<00:00, 58.76it/s]\n"
     ]
    },
    {
     "name": "stdout",
     "output_type": "stream",
     "text": [
      "['loss: 0.3069363534450531', 'categorical_accuracy: 0.9616166949272156']\n",
      "['val_loss: 0.47356852889060974', 'val_categorical_accuracy: 0.942799985408783']\n",
      "\n",
      "\n",
      "Epoch 28:\n"
     ]
    },
    {
     "name": "stderr",
     "output_type": "stream",
     "text": [
      "100%|██████████| 469/469 [00:08<00:00, 57.87it/s]\n"
     ]
    },
    {
     "name": "stdout",
     "output_type": "stream",
     "text": [
      "['loss: 0.26515892148017883', 'categorical_accuracy: 0.9652833342552185']\n",
      "['val_loss: 0.6368072628974915', 'val_categorical_accuracy: 0.9266999959945679']\n",
      "\n",
      "\n",
      "Epoch 29:\n"
     ]
    },
    {
     "name": "stderr",
     "output_type": "stream",
     "text": [
      "100%|██████████| 469/469 [00:07<00:00, 59.32it/s]\n"
     ]
    },
    {
     "name": "stdout",
     "output_type": "stream",
     "text": [
      "['loss: 0.3196866512298584', 'categorical_accuracy: 0.9576500058174133']\n",
      "['val_loss: 0.5317562222480774', 'val_categorical_accuracy: 0.9293000102043152']\n",
      "\n",
      "\n"
     ]
    }
   ],
   "source": [
    "# run the training loop \n",
    "model_b = FFN_b()\n",
    "\n",
    "training_loop(model=model_b, \n",
    "                train_ds=preprocess_b(train_ds,batch_size = 128), \n",
    "                val_ds=preprocess_b(test_ds,batch_size = 128), \n",
    "                epochs=30, \n",
    "                train_summary_writer=train_summary_writer, \n",
    "                val_summary_writer=val_summary_writer)"
   ]
  }
 ],
 "metadata": {
  "kernelspec": {
   "display_name": "Python 3.10.6 ('iannwtf')",
   "language": "python",
   "name": "python3"
  },
  "language_info": {
   "codemirror_mode": {
    "name": "ipython",
    "version": 3
   },
   "file_extension": ".py",
   "mimetype": "text/x-python",
   "name": "python",
   "nbconvert_exporter": "python",
   "pygments_lexer": "ipython3",
   "version": "3.10.6"
  },
  "orig_nbformat": 4,
  "vscode": {
   "interpreter": {
    "hash": "63f83f16703f6be7ffd0b8723f3797201bb87b90d9af5c25669f8b533ad7062b"
   }
  }
 },
 "nbformat": 4,
 "nbformat_minor": 2
}
